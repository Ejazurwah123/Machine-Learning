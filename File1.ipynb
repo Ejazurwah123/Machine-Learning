{
 "cells": [
  {
   "cell_type": "markdown",
   "metadata": {},
   "source": [
    "## Goal\n",
    "\n",
    "Your goal in this assigment is to implement and refresh the concepts learned during the previous two to three weeks using the ** Pure Python language** . This will not only solidify your Python understanding but also give you strong footing for further advancement :)\n",
    "\n",
    "**Note** Please note that you are **not allowed to use any other library (numpy and scipy) whatsoever for this part**. All the tools required to complete the tasks have already been discussed in the Lab. In case you need any help you can post on google classroom.\n",
    "\n",
    "## Submission Instructions\n",
    "You are required to submit the original notebook file on the google classroom (with .ipynb extension), with complete set of outputs. Students failing to do so will get zero marks. \n",
    "\n",
    "*Please read each step carefully and understand it fully before proceeding with code writing*"
   ]
  },
  {
   "cell_type": "code",
   "execution_count": 1,
   "metadata": {},
   "outputs": [
    {
     "name": "stdout",
     "output_type": "stream",
     "text": [
      "  % Total    % Received % Xferd  Average Speed   Time    Time     Time  Current\n",
      "                                 Dload  Upload   Total   Spent    Left  Speed\n",
      "100  4551    0  4551    0     0   6745      0 --:--:-- --:--:-- --:--:--  6895\n"
     ]
    }
   ],
   "source": [
    "!curl -o iris.data http://archive.ics.uci.edu/ml/machine-learning-databases/iris/iris.data"
   ]
  },
  {
   "cell_type": "code",
   "execution_count": 2,
   "metadata": {},
   "outputs": [],
   "source": [
    "import pandas as pd"
   ]
  },
  {
   "cell_type": "code",
   "execution_count": 3,
   "metadata": {},
   "outputs": [
    {
     "name": "stdout",
     "output_type": "stream",
     "text": [
      "       SepalLength  SepalWidth  PetalLength  PetalWidth\n",
      "count   149.000000  149.000000   149.000000  149.000000\n",
      "mean      5.848322    3.051007     3.774497    1.205369\n",
      "std       0.828594    0.433499     1.759651    0.761292\n",
      "min       4.300000    2.000000     1.000000    0.100000\n",
      "25%       5.100000    2.800000     1.600000    0.300000\n",
      "50%       5.800000    3.000000     4.400000    1.300000\n",
      "75%       6.400000    3.300000     5.100000    1.800000\n",
      "max       7.900000    4.400000     6.900000    2.500000\n"
     ]
    }
   ],
   "source": [
    "#Load data and name the columns\n",
    "data=pd.read_csv('iris.data')\n",
    "data.columns=['SepalLength','SepalWidth','PetalLength','PetalWidth','Species']\n",
    "print (data.describe())"
   ]
  },
  {
   "cell_type": "code",
   "execution_count": 4,
   "metadata": {},
   "outputs": [
    {
     "name": "stdout",
     "output_type": "stream",
     "text": [
      "PetalLength= [1.4, 1.3, 1.5, 1.4, 1.7, 1.4, 1.5, 1.4, 1.5, 1.5, 1.6, 1.4, 1.1, 1.2, 1.5, 1.3, 1.4, 1.7, 1.5, 1.7, 1.5, 1.0, 1.7, 1.9, 1.6, 1.6, 1.5, 1.4, 1.6, 1.6, 1.5, 1.5, 1.4, 1.5, 1.2, 1.3, 1.5, 1.3, 1.5, 1.3, 1.3, 1.3, 1.6, 1.9, 1.4, 1.6, 1.4, 1.5, 1.4, 4.7, 4.5, 4.9, 4.0, 4.6, 4.5, 4.7, 3.3, 4.6, 3.9, 3.5, 4.2, 4.0, 4.7, 3.6, 4.4, 4.5, 4.1, 4.5, 3.9, 4.8, 4.0, 4.9, 4.7, 4.3, 4.4, 4.8, 5.0, 4.5, 3.5, 3.8, 3.7, 3.9, 5.1, 4.5, 4.5, 4.7, 4.4, 4.1, 4.0, 4.4, 4.6, 4.0, 3.3, 4.2, 4.2, 4.2, 4.3, 3.0, 4.1, 6.0, 5.1, 5.9, 5.6, 5.8, 6.6, 4.5, 6.3, 5.8, 6.1, 5.1, 5.3, 5.5, 5.0, 5.1, 5.3, 5.5, 6.7, 6.9, 5.0, 5.7, 4.9, 6.7, 4.9, 5.7, 6.0, 4.8, 4.9, 5.6, 5.8, 6.1, 6.4, 5.6, 5.1, 5.6, 6.1, 5.6, 5.5, 4.8, 5.4, 5.6, 5.1, 5.1, 5.9, 5.7, 5.2, 5.0, 5.2, 5.4, 5.1]\n",
      "PetalWidth= [0.2, 0.2, 0.2, 0.2, 0.4, 0.3, 0.2, 0.2, 0.1, 0.2, 0.2, 0.1, 0.1, 0.2, 0.4, 0.4, 0.3, 0.3, 0.3, 0.2, 0.4, 0.2, 0.5, 0.2, 0.2, 0.4, 0.2, 0.2, 0.2, 0.2, 0.4, 0.1, 0.2, 0.1, 0.2, 0.2, 0.1, 0.2, 0.2, 0.3, 0.3, 0.2, 0.6, 0.4, 0.3, 0.2, 0.2, 0.2, 0.2, 1.4, 1.5, 1.5, 1.3, 1.5, 1.3, 1.6, 1.0, 1.3, 1.4, 1.0, 1.5, 1.0, 1.4, 1.3, 1.4, 1.5, 1.0, 1.5, 1.1, 1.8, 1.3, 1.5, 1.2, 1.3, 1.4, 1.4, 1.7, 1.5, 1.0, 1.1, 1.0, 1.2, 1.6, 1.5, 1.6, 1.5, 1.3, 1.3, 1.3, 1.2, 1.4, 1.2, 1.0, 1.3, 1.2, 1.3, 1.3, 1.1, 1.3, 2.5, 1.9, 2.1, 1.8, 2.2, 2.1, 1.7, 1.8, 1.8, 2.5, 2.0, 1.9, 2.1, 2.0, 2.4, 2.3, 1.8, 2.2, 2.3, 1.5, 2.3, 2.0, 2.0, 1.8, 2.1, 1.8, 1.8, 1.8, 2.1, 1.6, 1.9, 2.0, 2.2, 1.5, 1.4, 2.3, 2.4, 1.8, 1.8, 2.1, 2.4, 2.3, 1.9, 2.3, 2.5, 2.3, 1.9, 2.0, 2.3, 1.8]\n"
     ]
    }
   ],
   "source": [
    "#Code for generating data....\n",
    "datalist=[] #create an empty list\n",
    "# data list is a list of two elements, where index=0 contains data corresponding to petal \n",
    "# length and index=1 contains data corresponding to petal width\n",
    "datalist.append(list(data['PetalLength'].dropna()))\n",
    "datalist.append(list(data['PetalWidth'].dropna()))\n",
    "\n",
    "print (\"PetalLength=\", datalist[0])\n",
    "print (\"PetalWidth=\", datalist[1])\n",
    "\n",
    "#This and above code are both same...\n",
    "# datalist=[0]*2#create a list of 2 elements\n",
    "# datalist[0]=(list(data['PetalLength'].dropna()))\n",
    "# datalist[1]=(list(data['PetalWidth'].dropna()))\n",
    "#data list is a list of two elements, where index=0 contains data corresponding to petal \n",
    "# length and index=1 contains data corresponding to petal width\n",
    "# print(\"PetalLength=\", datalist[0])\n",
    "# print(\"PetalWidth=\", datalist[1])"
   ]
  },
  {
   "cell_type": "markdown",
   "metadata": {},
   "source": [
    "*In all the tasks given below use the list variable `datalist` (defined above) to answer all the questions.*\n",
    "\n",
    "#### Task1\n",
    "----------------\n",
    "Write code to find the mean and variance of the both the attributes vector (petal length and petal Width) "
   ]
  },
  {
   "cell_type": "code",
   "execution_count": 5,
   "metadata": {},
   "outputs": [
    {
     "name": "stdout",
     "output_type": "stream",
     "text": [
      "Petal Length Mean:  3.7744966442953043\n",
      "Petal Width Mean:  1.2053691275167793\n"
     ]
    }
   ],
   "source": [
    "#Write your code here\n",
    "# Step 1 - Finding the mean\n",
    "def calc_Mean(List1):\n",
    "    summ = 0\n",
    "    for val in List1:\n",
    "        summ+=val\n",
    "    meann = summ/len(List1)\n",
    "    return meann\n",
    "print('Petal Length Mean: ',calc_Mean(datalist[0]))\n",
    "print('Petal Width Mean: ',calc_Mean(datalist[1]))\n",
    "\n",
    "meann = calc_Mean(datalist[0]) #Petal Length Mean\n",
    "meann2 = calc_Mean(datalist[1]) # Petal Width Mean"
   ]
  },
  {
   "cell_type": "code",
   "execution_count": 6,
   "metadata": {},
   "outputs": [
    {
     "name": "stdout",
     "output_type": "stream",
     "text": [
      "Petal Length Variance:  3.0963722111373118\n",
      "Petal Width Variance:  0.5795655722836937\n"
     ]
    }
   ],
   "source": [
    "# Step 2 - Finding the Variance\n",
    "temp_variance_petal_length = 0\n",
    "temp_variance_petal_width = 0\n",
    "dif,srt_dif = 0,0\n",
    "dif2,srt_dif2 = 0,0\n",
    "for val1,val2 in zip(datalist[0],datalist[1]):\n",
    "    dif = val1 - meann\n",
    "    srt_dif = dif ** 2\n",
    "    temp_variance_petal_length += srt_dif\n",
    "    dif2 = val2 - meann2\n",
    "    srt_dif2 = dif2 ** 2\n",
    "    temp_variance_petal_width += srt_dif2\n",
    "    \n",
    "PetalLen_Variance = temp_variance_petal_length / (len(datalist[0]) - 1)\n",
    "PetalWidh_Variance = temp_variance_petal_width / (len(datalist[1]) - 1)\n",
    "\n",
    "print('Petal Length Variance: ',PetalLen_Variance)\n",
    "print('Petal Width Variance: ',PetalWidh_Variance)"
   ]
  },
  {
   "cell_type": "markdown",
   "metadata": {},
   "source": [
    "#### Task2\n",
    "----------------\n",
    "Write code to unit normalize both (feature) vectors and compute the cosine similarity among them. Please comment does it make sense to compute the cosine similarity among the feature vectors."
   ]
  },
  {
   "cell_type": "code",
   "execution_count": 7,
   "metadata": {},
   "outputs": [
    {
     "name": "stdout",
     "output_type": "stream",
     "text": [
      "Normalised Petal Length:  [0.06779661016949151, 0.05084745762711865, 0.0847457627118644, 0.06779661016949151, 0.11864406779661016, 0.06779661016949151, 0.0847457627118644, 0.06779661016949151, 0.0847457627118644, 0.0847457627118644, 0.1016949152542373, 0.06779661016949151, 0.016949152542372895, 0.033898305084745756, 0.0847457627118644, 0.05084745762711865, 0.06779661016949151, 0.11864406779661016, 0.0847457627118644, 0.11864406779661016, 0.0847457627118644, 0.0, 0.11864406779661016, 0.15254237288135591, 0.1016949152542373, 0.1016949152542373, 0.0847457627118644, 0.06779661016949151, 0.1016949152542373, 0.1016949152542373, 0.0847457627118644, 0.0847457627118644, 0.06779661016949151, 0.0847457627118644, 0.033898305084745756, 0.05084745762711865, 0.0847457627118644, 0.05084745762711865, 0.0847457627118644, 0.05084745762711865, 0.05084745762711865, 0.05084745762711865, 0.1016949152542373, 0.15254237288135591, 0.06779661016949151, 0.1016949152542373, 0.06779661016949151, 0.0847457627118644, 0.06779661016949151, 0.6271186440677966, 0.5932203389830508, 0.6610169491525424, 0.5084745762711864, 0.6101694915254237, 0.5932203389830508, 0.6271186440677966, 0.38983050847457623, 0.6101694915254237, 0.4915254237288135, 0.423728813559322, 0.5423728813559322, 0.5084745762711864, 0.6271186440677966, 0.4406779661016949, 0.576271186440678, 0.5932203389830508, 0.5254237288135593, 0.5932203389830508, 0.4915254237288135, 0.6440677966101694, 0.5084745762711864, 0.6610169491525424, 0.6271186440677966, 0.559322033898305, 0.576271186440678, 0.6440677966101694, 0.6779661016949152, 0.5932203389830508, 0.423728813559322, 0.47457627118644063, 0.4576271186440678, 0.4915254237288135, 0.6949152542372881, 0.5932203389830508, 0.5932203389830508, 0.6271186440677966, 0.576271186440678, 0.5254237288135593, 0.5084745762711864, 0.576271186440678, 0.6101694915254237, 0.5084745762711864, 0.38983050847457623, 0.5423728813559322, 0.5423728813559322, 0.5423728813559322, 0.559322033898305, 0.3389830508474576, 0.5254237288135593, 0.847457627118644, 0.6949152542372881, 0.8305084745762712, 0.7796610169491525, 0.8135593220338982, 0.9491525423728813, 0.5932203389830508, 0.8983050847457626, 0.8135593220338982, 0.8644067796610169, 0.6949152542372881, 0.7288135593220338, 0.7627118644067796, 0.6779661016949152, 0.6949152542372881, 0.7288135593220338, 0.7627118644067796, 0.9661016949152542, 1.0, 0.6779661016949152, 0.7966101694915254, 0.6610169491525424, 0.9661016949152542, 0.6610169491525424, 0.7966101694915254, 0.847457627118644, 0.6440677966101694, 0.6610169491525424, 0.7796610169491525, 0.8135593220338982, 0.8644067796610169, 0.9152542372881356, 0.7796610169491525, 0.6949152542372881, 0.7796610169491525, 0.8644067796610169, 0.7796610169491525, 0.7627118644067796, 0.6440677966101694, 0.7457627118644068, 0.7796610169491525, 0.6949152542372881, 0.6949152542372881, 0.8305084745762712, 0.7966101694915254, 0.711864406779661, 0.6779661016949152, 0.711864406779661, 0.7457627118644068, 0.6949152542372881]\n",
      "Normalised Petal Width:  [0.04166666666666667, 0.04166666666666667, 0.04166666666666667, 0.04166666666666667, 0.12500000000000003, 0.08333333333333333, 0.04166666666666667, 0.04166666666666667, 0.0, 0.04166666666666667, 0.04166666666666667, 0.0, 0.0, 0.04166666666666667, 0.12500000000000003, 0.12500000000000003, 0.08333333333333333, 0.08333333333333333, 0.08333333333333333, 0.04166666666666667, 0.12500000000000003, 0.04166666666666667, 0.16666666666666669, 0.04166666666666667, 0.04166666666666667, 0.12500000000000003, 0.04166666666666667, 0.04166666666666667, 0.04166666666666667, 0.04166666666666667, 0.12500000000000003, 0.0, 0.04166666666666667, 0.0, 0.04166666666666667, 0.04166666666666667, 0.0, 0.04166666666666667, 0.04166666666666667, 0.08333333333333333, 0.08333333333333333, 0.04166666666666667, 0.20833333333333334, 0.12500000000000003, 0.08333333333333333, 0.04166666666666667, 0.04166666666666667, 0.04166666666666667, 0.04166666666666667, 0.5416666666666666, 0.5833333333333334, 0.5833333333333334, 0.5, 0.5833333333333334, 0.5, 0.625, 0.375, 0.5, 0.5416666666666666, 0.375, 0.5833333333333334, 0.375, 0.5416666666666666, 0.5, 0.5416666666666666, 0.5833333333333334, 0.375, 0.5833333333333334, 0.4166666666666667, 0.7083333333333334, 0.5, 0.5833333333333334, 0.4583333333333333, 0.5, 0.5416666666666666, 0.5416666666666666, 0.6666666666666666, 0.5833333333333334, 0.375, 0.4166666666666667, 0.375, 0.4583333333333333, 0.625, 0.5833333333333334, 0.625, 0.5833333333333334, 0.5, 0.5, 0.5, 0.4583333333333333, 0.5416666666666666, 0.4583333333333333, 0.375, 0.5, 0.4583333333333333, 0.5, 0.5, 0.4166666666666667, 0.5, 1.0, 0.75, 0.8333333333333334, 0.7083333333333334, 0.8750000000000001, 0.8333333333333334, 0.6666666666666666, 0.7083333333333334, 0.7083333333333334, 1.0, 0.7916666666666666, 0.75, 0.8333333333333334, 0.7916666666666666, 0.9583333333333333, 0.9166666666666666, 0.7083333333333334, 0.8750000000000001, 0.9166666666666666, 0.5833333333333334, 0.9166666666666666, 0.7916666666666666, 0.7916666666666666, 0.7083333333333334, 0.8333333333333334, 0.7083333333333334, 0.7083333333333334, 0.7083333333333334, 0.8333333333333334, 0.625, 0.75, 0.7916666666666666, 0.8750000000000001, 0.5833333333333334, 0.5416666666666666, 0.9166666666666666, 0.9583333333333333, 0.7083333333333334, 0.7083333333333334, 0.8333333333333334, 0.9583333333333333, 0.9166666666666666, 0.75, 0.9166666666666666, 1.0, 0.9166666666666666, 0.75, 0.7916666666666666, 0.9166666666666666, 0.7083333333333334]\n"
     ]
    }
   ],
   "source": [
    "#Write your code here\n",
    "# Making a Function to normalise both Lists\n",
    "def Normalise_List(my_list):\n",
    "    normalised = []\n",
    "    list_Min = min(my_list)\n",
    "    list_Max = max(my_list)\n",
    "    for value in my_list:\n",
    "        number = (value - list_Min) / (list_Max - list_Min)\n",
    "        normalised.append(number)\n",
    "    return normalised\n",
    "        \n",
    "\n",
    "print('Normalised Petal Length: ',Normalise_List(datalist[0]))\n",
    "print('Normalised Petal Width: ',Normalise_List(datalist[1]))"
   ]
  },
  {
   "cell_type": "code",
   "execution_count": 8,
   "metadata": {},
   "outputs": [],
   "source": [
    "# Making a Function to calculate Dot Product \n",
    "def DotProduct(List1,List2):\n",
    "    dot_prod = 0\n",
    "    temp_prod = 0\n",
    "    if len(List1) != len(List2):\n",
    "        print('Try different lists.lists must be of same length.')\n",
    "    for (val1,val2) in zip(List1,List2):\n",
    "        temp_prod = val1 * val2\n",
    "        dot_prod += temp_prod\n",
    "    return dot_prod"
   ]
  },
  {
   "cell_type": "code",
   "execution_count": 9,
   "metadata": {},
   "outputs": [],
   "source": [
    "# Making mathematical functions to help us in further calculations\n",
    "def sqr_root(value):\n",
    "    return value ** 0.5\n",
    "def Calc_Magnitude(List1):\n",
    "    summ = 0\n",
    "    temp = 0\n",
    "    for val in List1:\n",
    "        temp = val ** 2\n",
    "        summ += temp\n",
    "    return sqr_root(summ)"
   ]
  },
  {
   "cell_type": "code",
   "execution_count": 10,
   "metadata": {},
   "outputs": [
    {
     "name": "stdout",
     "output_type": "stream",
     "text": [
      "Cosine Similarity: 0.9835062305846587\n",
      "The Cosine Similarity of these features can help us know that how much a flower type is similar to each other with respect to Petal Length and Width & Sepal Length and Width\n"
     ]
    }
   ],
   "source": [
    "# The function below is to calculate Cosine Similarity\n",
    "def Calc_CosineSimilarity(List1,List2):\n",
    "    # Computing the Dot Product of both lists\n",
    "    dotproduct = DotProduct(List1,List2)\n",
    "    # Computing Magnitude of Petal Length and Petal Width\n",
    "    magnitude_List1 = Calc_Magnitude(List1)\n",
    "    magnitude_List2 = Calc_Magnitude(List2)\n",
    "    # Using Above variables to calculate Cosine Similarity of Petal Length and Petal Width\n",
    "    product_of_magnitude = magnitude_List1 * magnitude_List2\n",
    "    cosine_similarity = dotproduct / product_of_magnitude\n",
    "    return cosine_similarity\n",
    "\n",
    "print(f\"Cosine Similarity: {Calc_CosineSimilarity(datalist[0], datalist[1])}\")\n",
    "print(\"The Cosine Similarity of these features can help us know that how much a flower type is similar to each other with respect to Petal Length and Width & Sepal Length and Width\")"
   ]
  },
  {
   "cell_type": "markdown",
   "metadata": {},
   "source": [
    "#### Task3: Univariate Analysis\n",
    "----------------\n",
    "Lets model the petal length as a univariate bernoulli random variable by categorizing the petal length as short(< 4.9cm) and long(>=4.9cm). Write the code for finding the probability of a short petal length flower."
   ]
  },
  {
   "cell_type": "code",
   "execution_count": 11,
   "metadata": {},
   "outputs": [
    {
     "name": "stdout",
     "output_type": "stream",
     "text": [
      "Petal Length Under 4.9 Cm:  [1.4, 1.3, 1.5, 1.4, 1.7, 1.4, 1.5, 1.4, 1.5, 1.5, 1.6, 1.4, 1.1, 1.2, 1.5, 1.3, 1.4, 1.7, 1.5, 1.7, 1.5, 1.0, 1.7, 1.9, 1.6, 1.6, 1.5, 1.4, 1.6, 1.6, 1.5, 1.5, 1.4, 1.5, 1.2, 1.3, 1.5, 1.3, 1.5, 1.3, 1.3, 1.3, 1.6, 1.9, 1.4, 1.6, 1.4, 1.5, 1.4, 4.7, 4.5, 4.0, 4.6, 4.5, 4.7, 3.3, 4.6, 3.9, 3.5, 4.2, 4.0, 4.7, 3.6, 4.4, 4.5, 4.1, 4.5, 3.9, 4.8, 4.0, 4.7, 4.3, 4.4, 4.8, 4.5, 3.5, 3.8, 3.7, 3.9, 4.5, 4.5, 4.7, 4.4, 4.1, 4.0, 4.4, 4.6, 4.0, 3.3, 4.2, 4.2, 4.2, 4.3, 3.0, 4.1, 4.5, 4.8, 4.8]\n",
      "Petal Lengths Above or == 4.9 Cm:  [4.9, 4.9, 5.0, 5.1, 6.0, 5.1, 5.9, 5.6, 5.8, 6.6, 6.3, 5.8, 6.1, 5.1, 5.3, 5.5, 5.0, 5.1, 5.3, 5.5, 6.7, 6.9, 5.0, 5.7, 4.9, 6.7, 4.9, 5.7, 6.0, 4.9, 5.6, 5.8, 6.1, 6.4, 5.6, 5.1, 5.6, 6.1, 5.6, 5.5, 5.4, 5.6, 5.1, 5.1, 5.9, 5.7, 5.2, 5.0, 5.2, 5.4, 5.1]\n",
      "Probability of Short Petal Length Flower:  0.6577181208053692\n"
     ]
    }
   ],
   "source": [
    "#Write your code here\n",
    "# Making a List of all Petal Lengths whichs comes under 4.9cm and above/== to 4.9\n",
    "petalLength_under49 = []\n",
    "petalLength_Above49 = []\n",
    "for length1 in (datalist[0]):\n",
    "    if length1 < 4.9:\n",
    "        petalLength_under49.append(length1)\n",
    "    \n",
    "    if length1 >= 4.9:\n",
    "        petalLength_Above49.append(length1)\n",
    "print('Petal Length Under 4.9 Cm: ',petalLength_under49)\n",
    "print('Petal Lengths Above or == 4.9 Cm: ',petalLength_Above49)\n",
    "print('Probability of Short Petal Length Flower: ',(len(petalLength_under49)/len(datalist[0])))"
   ]
  },
  {
   "cell_type": "markdown",
   "metadata": {},
   "source": [
    "#### Task4: Univariate Analysis\n",
    "----------------\n",
    "Lets consider that we randomly choose 20 flower, whats the probability that 15 among them will be short petal lenght ones ?"
   ]
  },
  {
   "cell_type": "code",
   "execution_count": 12,
   "metadata": {},
   "outputs": [],
   "source": [
    "# simple math function to help us in further calculations\n",
    "def factorial(value):\n",
    "    result = 1\n",
    "    for i in range(1, value+1):\n",
    "        result *= i\n",
    "    return result"
   ]
  },
  {
   "cell_type": "code",
   "execution_count": 13,
   "metadata": {},
   "outputs": [],
   "source": [
    "#Write your code here\n",
    "# Probability of a flower to have Short Petal Length is 0.6577181208053692\n",
    "# The question involve the use of Binomial Probability because number of successes are known\n",
    "# probability of success is also know \n",
    "# (Total_Trials, successful_trial) = (Total_Trials! / (successful_trial! * (Total_Trials - successful_trial)!))\n",
    "# above formula computes Binomial Coefficient\n",
    "# Binomial Probability =\n",
    "# Binomial Coefficient * (probability of success)^successful_trial * (probability of failure)^(Total_Trials-successful_trial)\n",
    "def factorial(value):\n",
    "    result = 1\n",
    "    for i in range(1, value+1):\n",
    "        result *= i\n",
    "    return result\n",
    "def binomialCoefficient(Total_Trials,Successful_Trials):\n",
    "    bin_coeff = 0\n",
    "    factorial_TotalTrials = factorial(Total_Trials) #Total_Trials!\n",
    "    factorial_Successful_Trials = factorial(Successful_Trials) #successful_trial!\n",
    "    Difference_Successful_Total_trial = Total_Trials - Successful_Trials #Total_Trials - successful_trial\n",
    "    factorial_Diff_of_Trial_and_success = factorial(Difference_Successful_Total_trial) #(Total_Trials - successful_trial)!\n",
    "    bin_coeff = factorial_TotalTrials / (factorial_Successful_Trials * factorial_Diff_of_Trial_and_success)\n",
    "    return bin_coeff\n",
    "\n",
    "def Compute_Binomial_Probability(Total_Trials,Successful_Trials,Probability_of_Success):\n",
    "    coeff = binomialCoefficient(Total_Trials,Successful_Trials)\n",
    "    # below line is computing p^k\n",
    "    prob_success_power_st = Probability_of_Success ** Successful_Trials\n",
    "    # (1-p)^(n-k)\n",
    "    prob_failure_power_ft = (1 - Probability_of_Success) ** (Total_Trials - Successful_Trials)\n",
    "    binomial_probability = coeff * prob_success_power_st * prob_failure_power_ft\n",
    "    return binomial_probability"
   ]
  },
  {
   "cell_type": "code",
   "execution_count": 14,
   "metadata": {},
   "outputs": [
    {
     "name": "stdout",
     "output_type": "stream",
     "text": [
      "Probability: 0.13581896209442684\n"
     ]
    }
   ],
   "source": [
    "# Now Finding Probability using the above functions\n",
    "Total = 20\n",
    "NumberofSuccess = 15\n",
    "Success_prob = 0.6577181208053692\n",
    "print(f\"Probability: {Compute_Binomial_Probability(Total, NumberofSuccess, Success_prob)}\")"
   ]
  },
  {
   "cell_type": "markdown",
   "metadata": {},
   "source": [
    "#### Task5: Univariate Analysis\n",
    "----------------\n",
    "Lets model the petal Width as a univariate Bernoulli random variable by categorizing the petal width as short(< 1.6cm) and long(>=1.6cm). Write the code for finding the probability of a short petal width flower."
   ]
  },
  {
   "cell_type": "code",
   "execution_count": 15,
   "metadata": {},
   "outputs": [
    {
     "name": "stdout",
     "output_type": "stream",
     "text": [
      "Probability of Short Petal Width Flower:  0.6510067114093959\n"
     ]
    }
   ],
   "source": [
    "#Write your code here\n",
    "# Making a List of all Petal Widths which comes under 1.6cm and above/equal to 1.6\n",
    "petalWidth_under16 = []\n",
    "petalWidth_Above16 = []\n",
    "for length1 in (datalist[1]):\n",
    "    if length1 < 1.6:\n",
    "        petalWidth_under16.append(length1)\n",
    "    \n",
    "    if length1 >= 1.6:\n",
    "        petalWidth_Above16.append(length1)\n",
    "# print('Petal Width Under 1.6 Cm: ',petalWidth_under16)\n",
    "# print('Petal Width Above or equal to 1.6 Cm: ',petalWidth_Above16)\n",
    "print('Probability of Short Petal Width Flower: ',(len(petalWidth_under16)/len(datalist[1])))"
   ]
  },
  {
   "cell_type": "code",
   "execution_count": null,
   "metadata": {},
   "outputs": [],
   "source": []
  }
 ],
 "metadata": {
  "kernelspec": {
   "display_name": "Python 3",
   "language": "python",
   "name": "python3"
  },
  "language_info": {
   "codemirror_mode": {
    "name": "ipython",
    "version": 3
   },
   "file_extension": ".py",
   "mimetype": "text/x-python",
   "name": "python",
   "nbconvert_exporter": "python",
   "pygments_lexer": "ipython3",
   "version": "3.11.4"
  }
 },
 "nbformat": 4,
 "nbformat_minor": 2
}
