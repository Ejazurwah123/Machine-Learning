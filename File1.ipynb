{
 "cells": [
  {
   "cell_type": "markdown",
   "metadata": {},
   "source": [
    "## Goal\n",
    "\n",
    "Your goal in this assigment is to implement and refresh the concepts learned during the previous two to three weeks using the ** Pure Python language** . This will not only solidify your Python understanding but also give you strong footing for further advancement :)\n",
    "\n",
    "**Note** Please note that you are **not allowed to use any other library (numpy and scipy) whatsoever for this part**. All the tools required to complete the tasks have already been discussed in the Lab. In case you need any help you can post on google classroom.\n",
    "\n",
    "## Submission Instructions\n",
    "You are required to submit the original notebook file on the google classroom (with .ipynb extension), with complete set of outputs. Students failing to do so will get zero marks. \n",
    "\n",
    "*Please read each step carefully and understand it fully before proceeding with code writing*"
   ]
  },
  {
   "cell_type": "code",
   "execution_count": 1,
   "metadata": {},
   "outputs": [
    {
     "name": "stdout",
     "output_type": "stream",
     "text": [
      "  % Total    % Received % Xferd  Average Speed   Time    Time     Time  Current\n",
      "                                 Dload  Upload   Total   Spent    Left  Speed\n",
      "100  4551    0  4551    0     0   6745      0 --:--:-- --:--:-- --:--:--  6895\n"
     ]
    }
   ],
   "source": [
    "!curl -o iris.data http://archive.ics.uci.edu/ml/machine-learning-databases/iris/iris.data"
   ]
  },
  {
   "cell_type": "code",
   "execution_count": 3,
   "metadata": {},
   "outputs": [],
   "source": [
    "import pandas as pd"
   ]
  },
  {
   "cell_type": "code",
   "execution_count": 4,
   "metadata": {},
   "outputs": [
    {
     "name": "stdout",
     "output_type": "stream",
     "text": [
      "       SepalLength  SepalWidth  PetalLength  PetalWidth\n",
      "count   149.000000  149.000000   149.000000  149.000000\n",
      "mean      5.848322    3.051007     3.774497    1.205369\n",
      "std       0.828594    0.433499     1.759651    0.761292\n",
      "min       4.300000    2.000000     1.000000    0.100000\n",
      "25%       5.100000    2.800000     1.600000    0.300000\n",
      "50%       5.800000    3.000000     4.400000    1.300000\n",
      "75%       6.400000    3.300000     5.100000    1.800000\n",
      "max       7.900000    4.400000     6.900000    2.500000\n"
     ]
    }
   ],
   "source": [
    "#Load data and name the columns\n",
    "data=pd.read_csv('iris.data')\n",
    "data.columns=['SepalLength','SepalWidth','PetalLength','PetalWidth','Species']\n",
    "print (data.describe())"
   ]
  },
  {
   "cell_type": "code",
   "execution_count": 5,
   "metadata": {},
   "outputs": [
    {
     "name": "stdout",
     "output_type": "stream",
     "text": [
      "PetalLength= [1.4, 1.3, 1.5, 1.4, 1.7, 1.4, 1.5, 1.4, 1.5, 1.5, 1.6, 1.4, 1.1, 1.2, 1.5, 1.3, 1.4, 1.7, 1.5, 1.7, 1.5, 1.0, 1.7, 1.9, 1.6, 1.6, 1.5, 1.4, 1.6, 1.6, 1.5, 1.5, 1.4, 1.5, 1.2, 1.3, 1.5, 1.3, 1.5, 1.3, 1.3, 1.3, 1.6, 1.9, 1.4, 1.6, 1.4, 1.5, 1.4, 4.7, 4.5, 4.9, 4.0, 4.6, 4.5, 4.7, 3.3, 4.6, 3.9, 3.5, 4.2, 4.0, 4.7, 3.6, 4.4, 4.5, 4.1, 4.5, 3.9, 4.8, 4.0, 4.9, 4.7, 4.3, 4.4, 4.8, 5.0, 4.5, 3.5, 3.8, 3.7, 3.9, 5.1, 4.5, 4.5, 4.7, 4.4, 4.1, 4.0, 4.4, 4.6, 4.0, 3.3, 4.2, 4.2, 4.2, 4.3, 3.0, 4.1, 6.0, 5.1, 5.9, 5.6, 5.8, 6.6, 4.5, 6.3, 5.8, 6.1, 5.1, 5.3, 5.5, 5.0, 5.1, 5.3, 5.5, 6.7, 6.9, 5.0, 5.7, 4.9, 6.7, 4.9, 5.7, 6.0, 4.8, 4.9, 5.6, 5.8, 6.1, 6.4, 5.6, 5.1, 5.6, 6.1, 5.6, 5.5, 4.8, 5.4, 5.6, 5.1, 5.1, 5.9, 5.7, 5.2, 5.0, 5.2, 5.4, 5.1]\n",
      "PetalWidth= [0.2, 0.2, 0.2, 0.2, 0.4, 0.3, 0.2, 0.2, 0.1, 0.2, 0.2, 0.1, 0.1, 0.2, 0.4, 0.4, 0.3, 0.3, 0.3, 0.2, 0.4, 0.2, 0.5, 0.2, 0.2, 0.4, 0.2, 0.2, 0.2, 0.2, 0.4, 0.1, 0.2, 0.1, 0.2, 0.2, 0.1, 0.2, 0.2, 0.3, 0.3, 0.2, 0.6, 0.4, 0.3, 0.2, 0.2, 0.2, 0.2, 1.4, 1.5, 1.5, 1.3, 1.5, 1.3, 1.6, 1.0, 1.3, 1.4, 1.0, 1.5, 1.0, 1.4, 1.3, 1.4, 1.5, 1.0, 1.5, 1.1, 1.8, 1.3, 1.5, 1.2, 1.3, 1.4, 1.4, 1.7, 1.5, 1.0, 1.1, 1.0, 1.2, 1.6, 1.5, 1.6, 1.5, 1.3, 1.3, 1.3, 1.2, 1.4, 1.2, 1.0, 1.3, 1.2, 1.3, 1.3, 1.1, 1.3, 2.5, 1.9, 2.1, 1.8, 2.2, 2.1, 1.7, 1.8, 1.8, 2.5, 2.0, 1.9, 2.1, 2.0, 2.4, 2.3, 1.8, 2.2, 2.3, 1.5, 2.3, 2.0, 2.0, 1.8, 2.1, 1.8, 1.8, 1.8, 2.1, 1.6, 1.9, 2.0, 2.2, 1.5, 1.4, 2.3, 2.4, 1.8, 1.8, 2.1, 2.4, 2.3, 1.9, 2.3, 2.5, 2.3, 1.9, 2.0, 2.3, 1.8]\n"
     ]
    }
   ],
   "source": [
    "#Code for generating data....\n",
    "datalist=[] #create an empty list\n",
    "# data list is a list of two elements, where index=0 contains data corresponding to petal \n",
    "# length and index=1 contains data corresponding to petal width\n",
    "datalist.append(list(data['PetalLength'].dropna()))\n",
    "datalist.append(list(data['PetalWidth'].dropna()))\n",
    "\n",
    "print (\"PetalLength=\", datalist[0])\n",
    "print (\"PetalWidth=\", datalist[1])\n",
    "\n",
    "#This and above code are both same...\n",
    "# datalist=[0]*2#create a list of 2 elements\n",
    "# datalist[0]=(list(data['PetalLength'].dropna()))\n",
    "# datalist[1]=(list(data['PetalWidth'].dropna()))\n",
    "#data list is a list of two elements, where index=0 contains data corresponding to petal \n",
    "# length and index=1 contains data corresponding to petal width\n",
    "# print(\"PetalLength=\", datalist[0])\n",
    "# print(\"PetalWidth=\", datalist[1])"
   ]
  },
  {
   "cell_type": "markdown",
   "metadata": {},
   "source": [
    "*In all the tasks given below use the list variable `datalist` (defined above) to answer all the questions.*\n",
    "\n",
    "#### Task1\n",
    "----------------\n",
    "Write code to find the mean and variance of the both the attributes vector (petal length and petal Width) "
   ]
  },
  {
   "cell_type": "code",
   "execution_count": 6,
   "metadata": {},
   "outputs": [
    {
     "name": "stdout",
     "output_type": "stream",
     "text": [
      "Petal Length Mean:  3.7744966442953043\n",
      "Petal Width Mean:  1.2053691275167793\n"
     ]
    }
   ],
   "source": [
    "#Write your code here\n",
    "# Step 1 - Finding the mean\n",
    "def calc_Mean(List1):\n",
    "    summ = 0\n",
    "    for val in List1:\n",
    "        summ+=val\n",
    "    meann = summ/len(List1)\n",
    "    return meann\n",
    "print('Petal Length Mean: ',calc_Mean(datalist[0]))\n",
    "print('Petal Width Mean: ',calc_Mean(datalist[1]))\n",
    "\n",
    "meann = calc_Mean(datalist[0]) #Petal Length Mean\n",
    "meann2 = calc_Mean(datalist[1]) # Petal Width Mean"
   ]
  },
  {
   "cell_type": "code",
   "execution_count": 7,
   "metadata": {},
   "outputs": [
    {
     "name": "stdout",
     "output_type": "stream",
     "text": [
      "Petal Length Variance:  3.0963722111373118\n",
      "Petal Width Variance:  0.5795655722836937\n"
     ]
    }
   ],
   "source": [
    "# Step 2 - Finding the Variance\n",
    "temp_variance_petal_length = 0\n",
    "temp_variance_petal_width = 0\n",
    "dif,srt_dif = 0,0\n",
    "dif2,srt_dif2 = 0,0\n",
    "for val1,val2 in zip(datalist[0],datalist[1]):\n",
    "    dif = val1 - meann\n",
    "    srt_dif = dif ** 2\n",
    "    temp_variance_petal_length += srt_dif\n",
    "    dif2 = val2 - meann2\n",
    "    srt_dif2 = dif2 ** 2\n",
    "    temp_variance_petal_width += srt_dif2\n",
    "    \n",
    "PetalLen_Variance = temp_variance_petal_length / (len(datalist[0]) - 1)\n",
    "PetalWidh_Variance = temp_variance_petal_width / (len(datalist[1]) - 1)\n",
    "\n",
    "print('Petal Length Variance: ',PetalLen_Variance)\n",
    "print('Petal Width Variance: ',PetalWidh_Variance)"
   ]
  },
  {
   "cell_type": "markdown",
   "metadata": {},
   "source": [
    "#### Task2\n",
    "----------------\n",
    "Write code to unit normalize both (feature) vectors and compute the cosine similarity among them. Please comment does it make sense to compute the cosine similarity among the feature vectors."
   ]
  },
  {
   "cell_type": "code",
   "execution_count": 8,
   "metadata": {},
   "outputs": [
    {
     "name": "stdout",
     "output_type": "stream",
     "text": [
      "Normalised Petal Length:  [0.06779661016949151, 0.05084745762711865, 0.0847457627118644, 0.06779661016949151, 0.11864406779661016, 0.06779661016949151, 0.0847457627118644, 0.06779661016949151, 0.0847457627118644, 0.0847457627118644, 0.1016949152542373, 0.06779661016949151, 0.016949152542372895, 0.033898305084745756, 0.0847457627118644, 0.05084745762711865, 0.06779661016949151, 0.11864406779661016, 0.0847457627118644, 0.11864406779661016, 0.0847457627118644, 0.0, 0.11864406779661016, 0.15254237288135591, 0.1016949152542373, 0.1016949152542373, 0.0847457627118644, 0.06779661016949151, 0.1016949152542373, 0.1016949152542373, 0.0847457627118644, 0.0847457627118644, 0.06779661016949151, 0.0847457627118644, 0.033898305084745756, 0.05084745762711865, 0.0847457627118644, 0.05084745762711865, 0.0847457627118644, 0.05084745762711865, 0.05084745762711865, 0.05084745762711865, 0.1016949152542373, 0.15254237288135591, 0.06779661016949151, 0.1016949152542373, 0.06779661016949151, 0.0847457627118644, 0.06779661016949151, 0.6271186440677966, 0.5932203389830508, 0.6610169491525424, 0.5084745762711864, 0.6101694915254237, 0.5932203389830508, 0.6271186440677966, 0.38983050847457623, 0.6101694915254237, 0.4915254237288135, 0.423728813559322, 0.5423728813559322, 0.5084745762711864, 0.6271186440677966, 0.4406779661016949, 0.576271186440678, 0.5932203389830508, 0.5254237288135593, 0.5932203389830508, 0.4915254237288135, 0.6440677966101694, 0.5084745762711864, 0.6610169491525424, 0.6271186440677966, 0.559322033898305, 0.576271186440678, 0.6440677966101694, 0.6779661016949152, 0.5932203389830508, 0.423728813559322, 0.47457627118644063, 0.4576271186440678, 0.4915254237288135, 0.6949152542372881, 0.5932203389830508, 0.5932203389830508, 0.6271186440677966, 0.576271186440678, 0.5254237288135593, 0.5084745762711864, 0.576271186440678, 0.6101694915254237, 0.5084745762711864, 0.38983050847457623, 0.5423728813559322, 0.5423728813559322, 0.5423728813559322, 0.559322033898305, 0.3389830508474576, 0.5254237288135593, 0.847457627118644, 0.6949152542372881, 0.8305084745762712, 0.7796610169491525, 0.8135593220338982, 0.9491525423728813, 0.5932203389830508, 0.8983050847457626, 0.8135593220338982, 0.8644067796610169, 0.6949152542372881, 0.7288135593220338, 0.7627118644067796, 0.6779661016949152, 0.6949152542372881, 0.7288135593220338, 0.7627118644067796, 0.9661016949152542, 1.0, 0.6779661016949152, 0.7966101694915254, 0.6610169491525424, 0.9661016949152542, 0.6610169491525424, 0.7966101694915254, 0.847457627118644, 0.6440677966101694, 0.6610169491525424, 0.7796610169491525, 0.8135593220338982, 0.8644067796610169, 0.9152542372881356, 0.7796610169491525, 0.6949152542372881, 0.7796610169491525, 0.8644067796610169, 0.7796610169491525, 0.7627118644067796, 0.6440677966101694, 0.7457627118644068, 0.7796610169491525, 0.6949152542372881, 0.6949152542372881, 0.8305084745762712, 0.7966101694915254, 0.711864406779661, 0.6779661016949152, 0.711864406779661, 0.7457627118644068, 0.6949152542372881]\n",
      "Normalised Petal Width:  [0.04166666666666667, 0.04166666666666667, 0.04166666666666667, 0.04166666666666667, 0.12500000000000003, 0.08333333333333333, 0.04166666666666667, 0.04166666666666667, 0.0, 0.04166666666666667, 0.04166666666666667, 0.0, 0.0, 0.04166666666666667, 0.12500000000000003, 0.12500000000000003, 0.08333333333333333, 0.08333333333333333, 0.08333333333333333, 0.04166666666666667, 0.12500000000000003, 0.04166666666666667, 0.16666666666666669, 0.04166666666666667, 0.04166666666666667, 0.12500000000000003, 0.04166666666666667, 0.04166666666666667, 0.04166666666666667, 0.04166666666666667, 0.12500000000000003, 0.0, 0.04166666666666667, 0.0, 0.04166666666666667, 0.04166666666666667, 0.0, 0.04166666666666667, 0.04166666666666667, 0.08333333333333333, 0.08333333333333333, 0.04166666666666667, 0.20833333333333334, 0.12500000000000003, 0.08333333333333333, 0.04166666666666667, 0.04166666666666667, 0.04166666666666667, 0.04166666666666667, 0.5416666666666666, 0.5833333333333334, 0.5833333333333334, 0.5, 0.5833333333333334, 0.5, 0.625, 0.375, 0.5, 0.5416666666666666, 0.375, 0.5833333333333334, 0.375, 0.5416666666666666, 0.5, 0.5416666666666666, 0.5833333333333334, 0.375, 0.5833333333333334, 0.4166666666666667, 0.7083333333333334, 0.5, 0.5833333333333334, 0.4583333333333333, 0.5, 0.5416666666666666, 0.5416666666666666, 0.6666666666666666, 0.5833333333333334, 0.375, 0.4166666666666667, 0.375, 0.4583333333333333, 0.625, 0.5833333333333334, 0.625, 0.5833333333333334, 0.5, 0.5, 0.5, 0.4583333333333333, 0.5416666666666666, 0.4583333333333333, 0.375, 0.5, 0.4583333333333333, 0.5, 0.5, 0.4166666666666667, 0.5, 1.0, 0.75, 0.8333333333333334, 0.7083333333333334, 0.8750000000000001, 0.8333333333333334, 0.6666666666666666, 0.7083333333333334, 0.7083333333333334, 1.0, 0.7916666666666666, 0.75, 0.8333333333333334, 0.7916666666666666, 0.9583333333333333, 0.9166666666666666, 0.7083333333333334, 0.8750000000000001, 0.9166666666666666, 0.5833333333333334, 0.9166666666666666, 0.7916666666666666, 0.7916666666666666, 0.7083333333333334, 0.8333333333333334, 0.7083333333333334, 0.7083333333333334, 0.7083333333333334, 0.8333333333333334, 0.625, 0.75, 0.7916666666666666, 0.8750000000000001, 0.5833333333333334, 0.5416666666666666, 0.9166666666666666, 0.9583333333333333, 0.7083333333333334, 0.7083333333333334, 0.8333333333333334, 0.9583333333333333, 0.9166666666666666, 0.75, 0.9166666666666666, 1.0, 0.9166666666666666, 0.75, 0.7916666666666666, 0.9166666666666666, 0.7083333333333334]\n"
     ]
    }
   ],
   "source": [
    "#Write your code here\n",
    "# Making a Function to normalise both Lists\n",
    "def Normalise_List(my_list):\n",
    "    normalised = []\n",
    "    list_Min = min(my_list)\n",
    "    list_Max = max(my_list)\n",
    "    for value in my_list:\n",
    "        number = (value - list_Min) / (list_Max - list_Min)\n",
    "        normalised.append(number)\n",
    "    return normalised\n",
    "        \n",
    "\n",
    "print('Normalised Petal Length: ',Normalise_List(datalist[0]))\n",
    "print('Normalised Petal Width: ',Normalise_List(datalist[1]))"
   ]
  },
  {
   "cell_type": "code",
   "execution_count": 9,
   "metadata": {},
   "outputs": [],
   "source": [
    "# Making a Function to calculate Dot Product \n",
    "def DotProduct(List1,List2):\n",
    "    dot_prod = 0\n",
    "    temp_prod = 0\n",
    "    if len(List1) != len(List2):\n",
    "        print('Try different lists.lists must be of same length.')\n",
    "    for (val1,val2) in zip(List1,List2):\n",
    "        temp_prod = val1 * val2\n",
    "        dot_prod += temp_prod\n",
    "    return dot_prod"
   ]
  },
  {
   "cell_type": "code",
   "execution_count": 10,
   "metadata": {},
   "outputs": [],
   "source": [
    "# Making mathematical functions to help us in further calculations\n",
    "def sqr_root(value):\n",
    "    return value ** 0.5\n",
    "def Calc_Magnitude(List1):\n",
    "    summ = 0\n",
    "    temp = 0\n",
    "    for val in List1:\n",
    "        temp = val ** 2\n",
    "        summ += temp\n",
    "    return sqr_root(summ)"
   ]
  },
  {
   "cell_type": "code",
   "execution_count": 11,
   "metadata": {},
   "outputs": [
    {
     "name": "stdout",
     "output_type": "stream",
     "text": [
      "Cosine Similarity: 0.9835062305846587\n",
      "The Cosine Similarity of these features can help us know that how much a flower type is similar to each other with respect to Petal Length and Width & Sepal Length and Width\n"
     ]
    }
   ],
   "source": [
    "# The function below is to calculate Cosine Similarity\n",
    "def Calc_CosineSimilarity(List1,List2):\n",
    "    # Computing the Dot Product of both lists\n",
    "    dotproduct = DotProduct(List1,List2)\n",
    "    # Computing Magnitude of Petal Length and Petal Width\n",
    "    magnitude_List1 = Calc_Magnitude(List1)\n",
    "    magnitude_List2 = Calc_Magnitude(List2)\n",
    "    # Using Above variables to calculate Cosine Similarity of Petal Length and Petal Width\n",
    "    product_of_magnitude = magnitude_List1 * magnitude_List2\n",
    "    cosine_similarity = dotproduct / product_of_magnitude\n",
    "    return cosine_similarity\n",
    "\n",
    "print(f\"Cosine Similarity: {Calc_CosineSimilarity(datalist[0], datalist[1])}\")\n",
    "print(\"The Cosine Similarity of these features can help us know that how much a flower type is similar to each other with respect to Petal Length and Width & Sepal Length and Width\")"
   ]
  },
  {
   "cell_type": "markdown",
   "metadata": {},
   "source": [
    "#### Task3: Univariate Analysis\n",
    "----------------\n",
    "Lets model the petal length as a univariate bernoulli random variable by categorizing the petal length as short(< 4.9cm) and long(>=4.9cm). Write the code for finding the probability of a short petal length flower."
   ]
  },
  {
   "cell_type": "code",
   "execution_count": 12,
   "metadata": {},
   "outputs": [
    {
     "name": "stdout",
     "output_type": "stream",
     "text": [
      "Petal Length Under 4.9 Cm:  [1.4, 1.3, 1.5, 1.4, 1.7, 1.4, 1.5, 1.4, 1.5, 1.5, 1.6, 1.4, 1.1, 1.2, 1.5, 1.3, 1.4, 1.7, 1.5, 1.7, 1.5, 1.0, 1.7, 1.9, 1.6, 1.6, 1.5, 1.4, 1.6, 1.6, 1.5, 1.5, 1.4, 1.5, 1.2, 1.3, 1.5, 1.3, 1.5, 1.3, 1.3, 1.3, 1.6, 1.9, 1.4, 1.6, 1.4, 1.5, 1.4, 4.7, 4.5, 4.0, 4.6, 4.5, 4.7, 3.3, 4.6, 3.9, 3.5, 4.2, 4.0, 4.7, 3.6, 4.4, 4.5, 4.1, 4.5, 3.9, 4.8, 4.0, 4.7, 4.3, 4.4, 4.8, 4.5, 3.5, 3.8, 3.7, 3.9, 4.5, 4.5, 4.7, 4.4, 4.1, 4.0, 4.4, 4.6, 4.0, 3.3, 4.2, 4.2, 4.2, 4.3, 3.0, 4.1, 4.5, 4.8, 4.8]\n",
      "Petal Lengths Above or == 4.9 Cm:  [4.9, 4.9, 5.0, 5.1, 6.0, 5.1, 5.9, 5.6, 5.8, 6.6, 6.3, 5.8, 6.1, 5.1, 5.3, 5.5, 5.0, 5.1, 5.3, 5.5, 6.7, 6.9, 5.0, 5.7, 4.9, 6.7, 4.9, 5.7, 6.0, 4.9, 5.6, 5.8, 6.1, 6.4, 5.6, 5.1, 5.6, 6.1, 5.6, 5.5, 5.4, 5.6, 5.1, 5.1, 5.9, 5.7, 5.2, 5.0, 5.2, 5.4, 5.1]\n",
      "Probability of Short Petal Length Flower:  0.6577181208053692\n"
     ]
    }
   ],
   "source": [
    "#Write your code here\n",
    "# Making a List of all Petal Lengths whichs comes under 4.9cm and above/== to 4.9\n",
    "petalLength_under49 = []\n",
    "petalLength_Above49 = []\n",
    "for length1 in (datalist[0]):\n",
    "    if length1 < 4.9:\n",
    "        petalLength_under49.append(length1)\n",
    "    \n",
    "    if length1 >= 4.9:\n",
    "        petalLength_Above49.append(length1)\n",
    "print('Petal Length Under 4.9 Cm: ',petalLength_under49)\n",
    "print('Petal Lengths Above or == 4.9 Cm: ',petalLength_Above49)\n",
    "print('Probability of Short Petal Length Flower: ',(len(petalLength_under49)/len(datalist[0])))"
   ]
  },
  {
   "cell_type": "markdown",
   "metadata": {},
   "source": [
    "#### Task4: Univariate Analysis\n",
    "----------------\n",
    "Lets consider that we randomly choose 20 flower, whats the probability that 15 among them will be short petal lenght ones ?"
   ]
  },
  {
   "cell_type": "code",
   "execution_count": 13,
   "metadata": {},
   "outputs": [],
   "source": [
    "# simple math function to help us in further calculations\n",
    "def factorial(value):\n",
    "    result = 1\n",
    "    for i in range(1, value+1):\n",
    "        result *= i\n",
    "    return result"
   ]
  },
  {
   "cell_type": "code",
   "execution_count": 14,
   "metadata": {},
   "outputs": [],
   "source": [
    "#Write your code here\n",
    "# Probability of a flower to have Short Petal Length is 0.6577181208053692\n",
    "# The question involve the use of Binomial Probability because number of successes are known\n",
    "# probability of success is also know \n",
    "# (Total_Trials, successful_trial) = (Total_Trials! / (successful_trial! * (Total_Trials - successful_trial)!))\n",
    "# above formula computes Binomial Coefficient\n",
    "# Binomial Probability =\n",
    "# Binomial Coefficient * (probability of success)^successful_trial * (probability of failure)^(Total_Trials-successful_trial)\n",
    "def factorial(value):\n",
    "    result = 1\n",
    "    for i in range(1, value+1):\n",
    "        result *= i\n",
    "    return result\n",
    "def binomialCoefficient(Total_Trials,Successful_Trials):\n",
    "    bin_coeff = 0\n",
    "    factorial_TotalTrials = factorial(Total_Trials) #Total_Trials!\n",
    "    factorial_Successful_Trials = factorial(Successful_Trials) #successful_trial!\n",
    "    Difference_Successful_Total_trial = Total_Trials - Successful_Trials #Total_Trials - successful_trial\n",
    "    factorial_Diff_of_Trial_and_success = factorial(Difference_Successful_Total_trial) #(Total_Trials - successful_trial)!\n",
    "    bin_coeff = factorial_TotalTrials / (factorial_Successful_Trials * factorial_Diff_of_Trial_and_success)\n",
    "    return bin_coeff\n",
    "\n",
    "def Compute_Binomial_Probability(Total_Trials,Successful_Trials,Probability_of_Success):\n",
    "    coeff = binomialCoefficient(Total_Trials,Successful_Trials)\n",
    "    # below line is computing p^k\n",
    "    prob_success_power_st = Probability_of_Success ** Successful_Trials\n",
    "    # (1-p)^(n-k)\n",
    "    prob_failure_power_ft = (1 - Probability_of_Success) ** (Total_Trials - Successful_Trials)\n",
    "    binomial_probability = coeff * prob_success_power_st * prob_failure_power_ft\n",
    "    return binomial_probability"
   ]
  },
  {
   "cell_type": "code",
   "execution_count": 15,
   "metadata": {},
   "outputs": [
    {
     "name": "stdout",
     "output_type": "stream",
     "text": [
      "Probability: 0.13581896209442684\n"
     ]
    }
   ],
   "source": [
    "# Now Finding Probability using the above functions\n",
    "Total = 20\n",
    "NumberofSuccess = 15\n",
    "Success_prob = 0.6577181208053692\n",
    "print(f\"Probability: {Compute_Binomial_Probability(Total, NumberofSuccess, Success_prob)}\")"
   ]
  },
  {
   "cell_type": "markdown",
   "metadata": {},
   "source": [
    "#### Task5: Univariate Analysis\n",
    "----------------\n",
    "Lets model the petal Width as a univariate Bernoulli random variable by categorizing the petal width as short(< 1.6cm) and long(>=1.6cm). Write the code for finding the probability of a short petal width flower."
   ]
  },
  {
   "cell_type": "code",
   "execution_count": 16,
   "metadata": {},
   "outputs": [
    {
     "name": "stdout",
     "output_type": "stream",
     "text": [
      "Probability of Short Petal Width Flower:  0.6510067114093959\n"
     ]
    }
   ],
   "source": [
    "#Write your code here\n",
    "# Making a List of all Petal Widths which comes under 1.6cm and above/equal to 1.6\n",
    "petalWidth_under16 = []\n",
    "petalWidth_Above16 = []\n",
    "for length1 in (datalist[1]):\n",
    "    if length1 < 1.6:\n",
    "        petalWidth_under16.append(length1)\n",
    "    \n",
    "    if length1 >= 1.6:\n",
    "        petalWidth_Above16.append(length1)\n",
    "# print('Petal Width Under 1.6 Cm: ',petalWidth_under16)\n",
    "# print('Petal Width Above or equal to 1.6 Cm: ',petalWidth_Above16)\n",
    "print('Probability of Short Petal Width Flower: ',(len(petalWidth_under16)/len(datalist[1])))"
   ]
  },
  {
   "cell_type": "markdown",
   "metadata": {},
   "source": [
    "#### Task6: Univariate Analysis\n",
    "----------------\n",
    "Lets model the petal length as a univariate continuous Gaussian random variable. What is the probability of seeing a flower with the petal lenght in the range $\\in [5.6,\\; 5.7]$. Recall that a gaussian pdf is\n",
    "$$f(x) = \\frac{1}{\\sigma \\sqrt{2\\pi} } e^{ -\\frac{(x-\\mu)^2}{2\\sigma^2} }$$"
   ]
  },
  {
   "cell_type": "code",
   "execution_count": 17,
   "metadata": {},
   "outputs": [],
   "source": [
    "# Making a Function Compute Standard Deviation and Variance\n",
    "def Calc_Variance(List1,list_mean):\n",
    "    var = 0\n",
    "    temp = 0\n",
    "    dif = 0\n",
    "    squared_dif = 0\n",
    "    for val in List1:\n",
    "        dif = val - list_mean\n",
    "        squared_dif = dif ** 2\n",
    "        temp += squared_dif\n",
    "    var = temp / (len(List1)-1)\n",
    "    return var\n",
    "def Calc_StandardDeviation(List1,Mean1):\n",
    "    std = sqr_root(Calc_Variance(List1,Mean1))\n",
    "    return std\n",
    "# print(Calc_StandardDeviation(datalist[0],meann))"
   ]
  },
  {
   "cell_type": "code",
   "execution_count": 18,
   "metadata": {},
   "outputs": [],
   "source": [
    "# Defining a Function to Compute Guassian PDF f(x)\n",
    "e = 2.71828 \n",
    "pi = 3.14159\n",
    "def Calc_Guassian_PDF(x,Mean,Std):\n",
    "    # working on Coefficient of e\n",
    "    Denominator_value = sqr_root(2 * pi) * Std\n",
    "    coeff = 1 / Denominator_value\n",
    "    # working on power of e\n",
    "    exp_power_numerator = (x-Mean)**2\n",
    "    exp_power_denumerator = (2 * (Std**2))\n",
    "    exp_power = - (exp_power_numerator / exp_power_denumerator)\n",
    "    result = coeff * (e ** exp_power)\n",
    "    return result"
   ]
  },
  {
   "cell_type": "code",
   "execution_count": 19,
   "metadata": {},
   "outputs": [],
   "source": [
    "#Write your code here, use summation instead of integral, \n",
    "# you are not authorized to use scipy.stats function for this and later parts...\n",
    "\n",
    "# Since we are not allowed to use external library\n",
    "# I am going to Compute Integration of f(x) myself\n",
    "# For this integration we will use \n",
    "# Trapezoidal Rule of Integration\n",
    "# which states that Integral f(x) from a to b\n",
    "# is approximately equal to 1/2 * (Sum of Heights)  -->\n",
    "# --> * (prependicular distance btw parallel lines)\n",
    "# sum of Heights refers to value of f(x) at a and b respectively\n",
    "# Sum of Heights = f(a) + f(b)\n",
    "# Prependicular Dist btw parallel lines = b - a\n",
    "# So, Integral f(x) from a to b = (b - a)/2 * (f(a)+f(b))\n",
    "# in the below function count refers to the number of trapezoids that we divide the interval \n",
    "# [𝑎,𝑏] into\n",
    "def Integration_By_Trapezoidal(Gaussian_func,Lower_Bound,Upper_Bound,Mean,Std,count):\n",
    "    # First step calculate width of each trapezoid\n",
    "    trap_width = (Upper_Bound - Lower_Bound) / count\n",
    "    sum_of_area = (1/2) * (Gaussian_func(Lower_Bound,Mean,Std) + Gaussian_func(Upper_Bound,Mean,Std))\n",
    "    \n",
    "    # now we will run a loop for all sub intervals \n",
    "    for interval in range(1,count):\n",
    "        # for each interval we will calculate the area of trapezoid\n",
    "        # and add it to sum_of_area\n",
    "        # Lower bound over here is the start of the interval\n",
    "        # interval * trap_width\n",
    "        # here interval is the current index in loop\n",
    "        # which goes uptil count - 1\n",
    "        # trap_width is step size, which represents the distance between \n",
    "        # consecutive points on the x-axis (the width of each trapezoid)\n",
    "        # hence interval * trap_width moves you interval steps from the Lower Bound\n",
    "        # spacing each point by trap width\n",
    "        temp = Lower_Bound + interval * trap_width\n",
    "        # then evaluating the Gaussian pdf value at temp point\n",
    "        sum_of_area += Gaussian_func(temp,Mean,Std)\n",
    "        # sum represents the height of trapezoids \n",
    "        # (function values at different points along the x-axis).\n",
    "        \n",
    "    # Each trapezoid's area is calculated as height×width\n",
    "    # as we got the height now we will multiply it with the trap width\n",
    "    sum_of_area = sum_of_area * trap_width \n",
    "    # now return the integrated function value\n",
    "    return sum_of_area\n"
   ]
  },
  {
   "cell_type": "code",
   "execution_count": 20,
   "metadata": {},
   "outputs": [
    {
     "name": "stdout",
     "output_type": "stream",
     "text": [
      "Probability of a flower with Petal Length \n",
      "in the range [5.6, 5.7] is Approx.\n",
      "0.012847248561017953\n"
     ]
    }
   ],
   "source": [
    "Petal_length_Mean = meann\n",
    "Petal_length_Std = Calc_StandardDeviation(datalist[0],Petal_length_Mean)\n",
    "Lower_Bound = 5.6\n",
    "Upper_Bound = 5.7\n",
    "Number_of_trapezoid = 1000\n",
    "Prob = Integration_By_Trapezoidal(Calc_Guassian_PDF,Lower_Bound,Upper_Bound,Petal_length_Mean,Petal_length_Std,Number_of_trapezoid)\n",
    "print(f\"Probability of a flower with Petal Length \\nin the range [5.6, 5.7] is Approx.\")\n",
    "print(Prob)"
   ]
  },
  {
   "cell_type": "markdown",
   "metadata": {},
   "source": [
    "#### Task7: Univariate Analysis\n",
    "----------------\n",
    "Lets model the petal length as a univariate continuous Gaussian random variable. What is the probability of seeing a flower with the petal lenght in the range $\\in [5.6,\\; 5.7]$. Recall that a gaussian pdf is"
   ]
  },
  {
   "cell_type": "markdown",
   "metadata": {},
   "source": []
  },
  {
   "cell_type": "code",
   "execution_count": 21,
   "metadata": {},
   "outputs": [
    {
     "name": "stdout",
     "output_type": "stream",
     "text": [
      "Probability of a flower with Petal Length \n",
      "in the range [5.6, 5.7] is Approx.\n",
      "0.012847248561017953\n"
     ]
    }
   ],
   "source": [
    "#Write your code here\n",
    "Petal_length_Mean = meann\n",
    "Petal_length_Std = Calc_StandardDeviation(datalist[0],Petal_length_Mean)\n",
    "Lower_Bound = 5.6\n",
    "Upper_Bound = 5.7\n",
    "Number_of_trapezoid = 1000\n",
    "Prob = Integration_By_Trapezoidal(Calc_Guassian_PDF,Lower_Bound,Upper_Bound,Petal_length_Mean,Petal_length_Std,Number_of_trapezoid)\n",
    "print(f\"Probability of a flower with Petal Length \\nin the range [5.6, 5.7] is Approx.\")\n",
    "print(Prob)"
   ]
  },
  {
   "cell_type": "markdown",
   "metadata": {},
   "source": [
    "#### Task8: Univariate Analysis\n",
    "----------------\n",
    "Lets model the petal length as a univariate continuous Gaussian random variable. What is the relative probability of seeing a flower with the petal length 5.4 to a flower with petal length 3.9."
   ]
  },
  {
   "cell_type": "code",
   "execution_count": 22,
   "metadata": {},
   "outputs": [
    {
     "name": "stdout",
     "output_type": "stream",
     "text": [
      "Relative Probability of seeing a flower with Petal Length 5.4 \n",
      "to a flower with petal length 3.9:\n",
      "0.654340966940601\n"
     ]
    }
   ],
   "source": [
    "#Write your code here\n",
    "Probability_Petal_length_54 = Calc_Guassian_PDF(5.4,Petal_length_Mean,Petal_length_Std)\n",
    "Probability_Petal_length_39 = Calc_Guassian_PDF(3.9,Petal_length_Mean,Petal_length_Std)\n",
    "Petal_length_Relative_prob = Probability_Petal_length_54 / Probability_Petal_length_39\n",
    "print('Relative Probability of seeing a flower with Petal Length 5.4 \\nto a flower with petal length 3.9:')\n",
    "print(Petal_length_Relative_prob)"
   ]
  },
  {
   "cell_type": "code",
   "execution_count": null,
   "metadata": {},
   "outputs": [],
   "source": []
  },
  {
   "cell_type": "markdown",
   "metadata": {},
   "source": [
    "#### Task9: Univariate Analysis\n",
    "Write a function to build a histogarm of the given feature vector (list). Your function should receive two arguments a feature vector (a list) and number of bins and return the built histogram. "
   ]
  },
  {
   "cell_type": "code",
   "execution_count": 23,
   "metadata": {},
   "outputs": [
    {
     "name": "stdout",
     "output_type": "stream",
     "text": [
      "Histogram Bin Ranges:  [(1.0, 1.3933333333333333), (1.3933333333333333, 1.7866666666666666), (1.7866666666666666, 2.18), (2.18, 2.5733333333333333), (2.5733333333333333, 2.966666666666667), (2.966666666666667, 3.3600000000000003), (3.3600000000000003, 3.7533333333333334), (3.7533333333333334, 4.1466666666666665), (4.1466666666666665, 4.540000000000001), (4.540000000000001, 4.933333333333334), (4.933333333333334, 5.326666666666667), (5.326666666666667, 5.720000000000001), (5.720000000000001, 6.113333333333334), (6.113333333333334, 6.506666666666667), (6.506666666666667, 6.9)]\n",
      "Histogram:  [11, 36, 2, 0, 0, 3, 4, 12, 18, 17, 16, 14, 10, 2, 18]\n"
     ]
    }
   ],
   "source": [
    "def buildHistogram(feature_vector, nbins):\n",
    "    \"\"\" Histogram the feature into number of bins \"\"\"\n",
    "    #Write your code here \n",
    "    # Make sure that number of bin are greater than 0\n",
    "    # Make sure length of feature vector is != 0\n",
    "    if nbins <= 0 or len(feature_vector) == 0:\n",
    "        print('Number of Bins must be greater than 0')\n",
    "        print('Length of Feature vector must be greater than 0')\n",
    "        return 0\n",
    "    \n",
    "    # step two is to find out the Bin Width\n",
    "    max_number,min_number = max(feature_vector),min(feature_vector)\n",
    "\n",
    "    # What is max and min are same because all values are same?\n",
    "    # Hence we will put a check for that as well\n",
    "    if max_number == min_number:\n",
    "        # this will return a histogram with all data\n",
    "        # coming in first bin of histogram\n",
    "        histogram = [0] * nbins\n",
    "        histogram[0] = len(feature_vector)\n",
    "        return histogram\n",
    "    \n",
    "    Range1 = max_number - min_number\n",
    "    Width_of_Bins = Range1 / nbins\n",
    "    # this will tell us the range of one interval\n",
    "    # Now we will make list of Bin Ranges\n",
    "    # that will look like this\n",
    "    # bins = [(0,1),(1,2),..]\n",
    "    # then we will match which value comes in \n",
    "    # which range of bin\n",
    "    Hist_Bins = []\n",
    "    for count in range(nbins):\n",
    "        # for example if min number == 1 and max == 63\n",
    "        # width of bin will be 62/10 == 6\n",
    "        # number of bins are 10\n",
    "        # then this will give us 1.03 + (0 * 6) = 1.3\n",
    "        # 1.03 + (1 * 6) = 13\n",
    "        # print(count,'\\n')\n",
    "        # print('Min',min_number,'\\n')\n",
    "        bin_interval_start = min_number + count * Width_of_Bins\n",
    "        # print('Width: ',Width_of_Bins,'\\n')\n",
    "        # print(bin_interval_start,'\\n')\n",
    "        bin_interval_end = min_number + (count + 1) * Width_of_Bins\n",
    "        # print(bin_interval_end,'\\n')\n",
    "        Hist_Bins.append((bin_interval_start,bin_interval_end))\n",
    "        # print('\\n\\n')\n",
    "        # print()\n",
    "    count_Bins = [0] * nbins\n",
    "    for val in feature_vector:\n",
    "        # finding correct range interval for the value\n",
    "        for index,(start,end) in enumerate(Hist_Bins):\n",
    "            if start <= val <= end:\n",
    "                count_Bins[index] += 1\n",
    "                break\n",
    "            else:\n",
    "                if val==max_number:\n",
    "                    # increments the count of the last bin\n",
    "                    count_Bins[-1] += 1\n",
    "    return Hist_Bins, count_Bins\n",
    "\n",
    "    \n",
    "    \n",
    "Histogram_Bin_Ranges, Histogram = buildHistogram(datalist[0],15)\n",
    "print(\"Histogram Bin Ranges: \",Histogram_Bin_Ranges)\n",
    "print(\"Histogram: \",Histogram)"
   ]
  },
  {
   "cell_type": "markdown",
   "metadata": {},
   "source": [
    "#### Task10: Univariate Analysis\n",
    "Write a function that returns a list containing all the four quantile of the given feature vector."
   ]
  },
  {
   "cell_type": "code",
   "execution_count": 24,
   "metadata": {},
   "outputs": [
    {
     "name": "stdout",
     "output_type": "stream",
     "text": [
      "Quantile 1:  1.6\n",
      "Quantile 2 (Median):  4.4\n",
      "Quantile 3:  5.1\n",
      "QUantile 4:  6.9\n"
     ]
    }
   ],
   "source": [
    "def Sort_the_list(mylist):\n",
    "    length = len(mylist)\n",
    "    temp = 0\n",
    "    for i in range(length):\n",
    "        new_end = length - i - 1\n",
    "        for j in range(0,new_end):\n",
    "            if mylist[j] > mylist[j+1]:\n",
    "                temp = mylist[j]\n",
    "                mylist[j] = mylist[j+1]\n",
    "                mylist[j+1] = temp\n",
    "    return mylist\n",
    "\n",
    "def Calc_Median(myList):\n",
    "    # calculating the length of the list\n",
    "    list_length = len(myList)\n",
    "    # extract the middle value\n",
    "    mid_value = list_length // 2\n",
    "    # now configure if the list is even or odd\n",
    "    if list_length % 2 == 0:\n",
    "        # this means if the list is even\n",
    "        val1 = myList[mid_value - 1]\n",
    "        val2 = myList[mid_value]\n",
    "        summ = val1 + val2\n",
    "        median = summ / 2\n",
    "        return median\n",
    "    else:\n",
    "        # this means if the list is odd\n",
    "        median = myList[mid_value]\n",
    "        return median\n",
    "\n",
    "\n",
    "def getQuantile(features):\n",
    "    \"\"\" Function returns the four quantile of the given feature vector in a list \"\"\"    \n",
    "    quartile=[0]*4\n",
    "    #Write your code here  \n",
    "    # quartile[0] = q1 Lower Half\n",
    "    # quartile[1] = q2 Median\n",
    "    # quartile[2] = q3 Upper Half\n",
    "    # quartile[3] = q4 MAx\n",
    "    # sorting the features array\n",
    "    features = Sort_the_list(features)\n",
    "    # if features length == 8\n",
    "    # lowesthalf will give approx of data which lies in 4th range\n",
    "    lowesthalf = len(features) // 2\n",
    "    data_to_in_q1 = features[:lowesthalf]\n",
    "    quartile[0] = Calc_Median(data_to_in_q1)\n",
    "    quartile[1] = Calc_Median(features)\n",
    "    if len(features) % 2 == 0:\n",
    "        data_in_UpperHalf = features[lowesthalf:]\n",
    "    else:\n",
    "        data_in_UpperHalf = features[lowesthalf+1:]\n",
    "    quartile[2] = Calc_Median(data_in_UpperHalf)\n",
    "    quartile[3] = max(features)\n",
    "    return quartile\n",
    "\n",
    "\n",
    "# Getting Quantiles of Petal Length\n",
    "q1, q2, q3, q4 = getQuantile(datalist[0])\n",
    "print('Quantile 1: ',q1)\n",
    "print('Quantile 2 (Median): ',q2)\n",
    "print('Quantile 3: ',q3)\n",
    "print('QUantile 4: ',q4)"
   ]
  },
  {
   "cell_type": "markdown",
   "metadata": {},
   "source": [
    "#### Task11: Univariate Analysis\n",
    "Find the outliers in the features petal length and width. Comment on how you have decided on the features which are outliers."
   ]
  },
  {
   "cell_type": "code",
   "execution_count": 25,
   "metadata": {},
   "outputs": [
    {
     "name": "stdout",
     "output_type": "stream",
     "text": [
      "Outliers in Petal Length: []\n",
      "Outliers in Petal Width: []\n"
     ]
    }
   ],
   "source": [
    "#Write your code here  \n",
    "def Figure_Outliers(my_list_01):\n",
    "    \"\"\" This function identifies Outliers Using Inter-Quartile Range \"\"\"\n",
    "    Q_1, Q_2, Q_3, Q_4 = getQuantile(my_list_01)\n",
    "    inter_quartile_range = Q_3 - Q_1\n",
    "    lowerbound = Q_1 - 1.5 * inter_quartile_range\n",
    "    upperbound = Q_3 + 1.5 * inter_quartile_range\n",
    "    Outliers = []\n",
    "    for value in my_list_01:\n",
    "        if value < lowerbound or value > upperbound:\n",
    "            Outliers.append(value)\n",
    "    return Outliers\n",
    "    \n",
    "    \n",
    "Petal_Length_Outlier = Figure_Outliers(datalist[0])\n",
    "Petal_width_Outlier = Figure_Outliers(datalist[1])\n",
    "print(f'Outliers in Petal Length: {Petal_Length_Outlier}')\n",
    "print(f'Outliers in Petal Width: {Petal_width_Outlier}')"
   ]
  },
  {
   "cell_type": "markdown",
   "metadata": {},
   "source": [
    "#### Task12: Multivariate Analysis\n",
    "Lets model the petal length and width as a bivariate Bernoulli random variable by categorizing the petal length (< 4.9cm) and petal width as short(< 1.6cm) and vice versa. Suppose that petal length is represented by random variable $x$ and petal width by random variable $y$. Now write the code for finding the probability of following cases:\n",
    "$$P(x=0, y=0)= ?$$\n",
    "$$P(x=0, y=1)= ?$$\n",
    "$$P(x=1, y=0)= ?$$\n",
    "$$P(x=1, y=1)= ?$$\n",
    "\n",
    "Here $x=0$ represent the flowers with short petal length and $x=1$ represent the flower with long petal length..\n"
   ]
  },
  {
   "cell_type": "code",
   "execution_count": 26,
   "metadata": {},
   "outputs": [
    {
     "name": "stdout",
     "output_type": "stream",
     "text": [
      "Probability of Short Petal Length and Width: 0.6510067114093959\n",
      "Probability of Short Petal Length and Long Width: 0.006711409395973154\n",
      "Probability of Long Petal Length and Short Width: 0.0\n",
      "Probability of Long Petal Length and Width: 0.3422818791946309\n"
     ]
    }
   ],
   "source": [
    "#Write your code here  \n",
    "Petal_Length_Short_or_Long = []\n",
    "Petal_Width_Short_or_Long = []\n",
    "# working for petal lengths\n",
    "for val in datalist[0]:\n",
    "    if val < 4.9:\n",
    "        # 0 means short\n",
    "        Petal_Length_Short_or_Long.append(0)\n",
    "    if val >= 4.9:\n",
    "        #  1 means long\n",
    "        Petal_Length_Short_or_Long.append(1)\n",
    "\n",
    "for val2 in datalist[1]:\n",
    "    if val2 < 1.6:\n",
    "        # 0 means short\n",
    "        Petal_Width_Short_or_Long.append(0)\n",
    "    if val2>= 1.6:\n",
    "        # 1 means long\n",
    "        Petal_Width_Short_or_Long.append(1)\n",
    "        \n",
    "extracted_counts_of_each_category = {\n",
    "    (0 , 0): 0,\n",
    "    (0 , 1): 0,\n",
    "    (1 , 0): 0,\n",
    "    (1 , 1): 0\n",
    "}\n",
    "for petal_length,petal_width in zip(Petal_Length_Short_or_Long,Petal_Width_Short_or_Long):\n",
    "    # this will increase the count for each combination of 0's and 1's\n",
    "    extracted_counts_of_each_category[(petal_length,petal_width)] += 1\n",
    "# now divide number of occurences of each category with total number of entries in the list\n",
    "prob_00 = extracted_counts_of_each_category[(0 , 0)] / len(datalist[0])\n",
    "prob_01 = extracted_counts_of_each_category[(0 , 1)] / len(datalist[0])\n",
    "prob_10 = extracted_counts_of_each_category[(1 , 0)] / len(datalist[0])\n",
    "prob_11 = extracted_counts_of_each_category[(1 , 1)] / len(datalist[0])\n",
    "\n",
    "print(f'Probability of Short Petal Length and Width: {prob_00}')\n",
    "print(f'Probability of Short Petal Length and Long Width: {prob_01}')\n",
    "print(f'Probability of Long Petal Length and Short Width: {prob_10}')\n",
    "print(f'Probability of Long Petal Length and Width: {prob_11}')\n",
    "\n",
    "\n"
   ]
  },
  {
   "cell_type": "markdown",
   "metadata": {},
   "source": [
    "#### Task13: Multivariate Analysis\n",
    "What will be probability of seeing of flower with long petal length ? Find the result using marginalization principle."
   ]
  },
  {
   "cell_type": "code",
   "execution_count": 27,
   "metadata": {},
   "outputs": [
    {
     "name": "stdout",
     "output_type": "stream",
     "text": [
      "Probability of seeing flower with long Petal Length using Marginalization Principle: \n",
      "0.3423\n"
     ]
    }
   ],
   "source": [
    "#P(x = 1, y = 0) + P(x = 1, y = 1)\n",
    "marginal_prob = prob_10 + prob_11\n",
    "print(f'Probability of seeing flower with long Petal Length using Marginalization Principle: ')\n",
    "print(f'{marginal_prob:.4f}')\n",
    "\n"
   ]
  },
  {
   "cell_type": "markdown",
   "metadata": {},
   "source": [
    "#### Task14: Multivariate Analysis\n",
    "Lets model the sepal length, sepal width, petal length and width as a multivariate Bernoulli random variable by categorizing the sepal length  as (short< 7.1cm), sepal width (short< 3.1cm), petal length (short< 4.9cm) and petal width (short< 1.6cm) and vice versa. Suppose that all four measures are represented by random variables $x_1, x_2, x_3, x_4$ respectively. Now write the code for finding the probability of the following cases:\n",
    "$$p(x_1=1, x_2=1, x_3=0, x_4=1)$$\n",
    "$$p(x_1=0, x_2=1, x_3=0, x_4=1)$$\n",
    "$$p(x_1=0, x_2=0, x_3=0, x_4=1)$$\n",
    "$$p(x_1=1, x_2=1, x_3=1, x_4=1)$$\n",
    "\n",
    "Here $x_i=0$ represent the flowers with short featuers and $x_i=1$ represent the flower with long feature.\n"
   ]
  },
  {
   "cell_type": "code",
   "execution_count": 28,
   "metadata": {},
   "outputs": [
    {
     "name": "stdout",
     "output_type": "stream",
     "text": [
      "P(x1=1, x2=1, x3=0, x4=1): 0.0000\n",
      "P(x1=0, x2=1, x3=0, x4=1): 0.0000\n",
      "P(x1=0, x2=0, x3=0, x4=1): 0.0067\n",
      "P(x1=1, x2=1, x3=1, x4=1): 0.0268\n"
     ]
    }
   ],
   "source": [
    "# Write your code here\n",
    "datalist.append(list(data['SepalLength'].dropna()))\n",
    "datalist.append(list(data['SepalWidth'].dropna()))\n",
    "\n",
    "\n",
    "Sepal_Length_Short_or_Long = []\n",
    "Sepal_Width_Short_or_Long = []\n",
    "\n",
    "Petal_Len_Short_Long = []\n",
    "Petal_Wid_Short_Long = []\n",
    "# Working on Sepal_Length\n",
    "for value in datalist[2]:\n",
    "    if value < 7.1:\n",
    "        # 0 for short\n",
    "        Sepal_Length_Short_or_Long.append(0)\n",
    "    else:\n",
    "        # 1 for long\n",
    "        Sepal_Length_Short_or_Long.append(1)\n",
    "        \n",
    "# Working on Sepal Width\n",
    "for val in datalist[3]:\n",
    "    if val < 3.1:\n",
    "        # 0 for short\n",
    "        Sepal_Width_Short_or_Long.append(0)\n",
    "    else:\n",
    "        # 1 for long\n",
    "        Sepal_Width_Short_or_Long.append(1)\n",
    "        \n",
    "# Working on Petal Length\n",
    "for val1 in datalist[0]:\n",
    "    if val1 < 4.9:\n",
    "        # 0 for short\n",
    "        Petal_Len_Short_Long.append(0)\n",
    "    else:\n",
    "        #  1 for Long\n",
    "        Petal_Len_Short_Long.append(1)\n",
    "\n",
    "for val2 in datalist[1]:\n",
    "    if val2 < 1.6:\n",
    "        # 0 for short\n",
    "        Petal_Wid_Short_Long.append(0)\n",
    "    else:\n",
    "        # 1 for long\n",
    "        Petal_Wid_Short_Long.append(1)\n",
    "        \n",
    "# Now that all categorised data lists are ready lets compute\n",
    "# Probabilities\n",
    "\n",
    "extracted_counts_of_each_category2 = {\n",
    "    # (1 , 1, 0, 1): 0,\n",
    "    # # Long Sepal Length and Width , Short petal length and long petal width\n",
    "    # (0 , 1, 0, 1): 0,\n",
    "    # # Short Sepal Length, Long Sepal Width, Short Petal Length, Long Petal Width\n",
    "    # (0 , 0, 0, 1): 0, # Short Sepal Length and Width, Short Petal Length and Long Petal Width\n",
    "    # (1 , 1, 1, 1): 0, # means all long features\n",
    "    # (0, 0, 0, 0): 0,\n",
    "    # (0, 1, 0, 0): 0,\n",
    "    # (1, 0, 0, 0): 0,   \n",
    "}\n",
    "for sl,sw,pl,pw in zip(Sepal_Length_Short_or_Long,Sepal_Width_Short_or_Long,Petal_Len_Short_Long,Petal_Wid_Short_Long):\n",
    "    # extracted_counts_of_each_category2[(sl,sw,pl,pw)] += 1\n",
    "        extracted_counts_of_each_category2[(sl, sw, pl, pw)] = extracted_counts_of_each_category2.get((sl, sw, pl, pw), 0) + 1\n",
    "\n",
    "\n",
    "prob_1101 = extracted_counts_of_each_category2.get((1,1,0,1),0) / len(datalist[0])\n",
    "prob_0101 = extracted_counts_of_each_category2.get((0,1,0,1),0) / len(datalist[0])\n",
    "prob_0001 = extracted_counts_of_each_category2.get((0,0,0,1),0) / len(datalist[0])\n",
    "prob_1111 = extracted_counts_of_each_category2.get((1,1,1,1),0) / len(datalist[0])\n",
    "\n",
    "print(f'P(x1=1, x2=1, x3=0, x4=1): {prob_1101:.4f}')\n",
    "print(f'P(x1=0, x2=1, x3=0, x4=1): {prob_0101:.4f}')\n",
    "print(f'P(x1=0, x2=0, x3=0, x4=1): {prob_0001:.4f}')\n",
    "print(f'P(x1=1, x2=1, x3=1, x4=1): {prob_1111:.4f}')"
   ]
  },
  {
   "cell_type": "markdown",
   "metadata": {},
   "source": [
    "#### Task15: Multivariate Analysis\n",
    "Find the following probabilities using marginalization principle:\n",
    "$$p(x_1=1, x_2=1,  x_4=1)$$\n",
    "$$p(x_1=0, x_4=1)$$"
   ]
  },
  {
   "cell_type": "code",
   "execution_count": 29,
   "metadata": {},
   "outputs": [
    {
     "name": "stdout",
     "output_type": "stream",
     "text": [
      "P(x_1=1, x_2=1, x_4=1): 0.0268\n",
      "P(x_1=0, x_4=1): 0.2685\n"
     ]
    }
   ],
   "source": [
    "#Write your code here\n",
    "# Finding first probability \n",
    "# P(x1=1,x2=1,x4=1)=P(x1=1,x2=1,x3=0,x4=1)+P(x1=1,x2=1,x3=1,x4=1)\n",
    "n = len(datalist[0])  \n",
    "prob_111 = (extracted_counts_of_each_category2.get((1, 1, 0, 1), 0) + extracted_counts_of_each_category2.get((1, 1, 1, 1), 0)) / n\n",
    "# P(x_1=0, x_4=1)\n",
    "prob11 = (extracted_counts_of_each_category2.get((0, 0, 0, 1), 0) + extracted_counts_of_each_category2.get((0, 0, 1, 1), 0) +\n",
    "          extracted_counts_of_each_category2.get((0, 1, 0, 1), 0) + extracted_counts_of_each_category2.get((0, 1, 1, 1), 0)) / n\n",
    "\n",
    "print(f'P(x_1=1, x_2=1, x_4=1): {prob_111:.4f}')\n",
    "print(f'P(x_1=0, x_4=1): {prob11:.4f}')"
   ]
  },
  {
   "cell_type": "code",
   "execution_count": null,
   "metadata": {},
   "outputs": [],
   "source": []
  }
 ],
 "metadata": {
  "kernelspec": {
   "display_name": "Python 3",
   "language": "python",
   "name": "python3"
  },
  "language_info": {
   "codemirror_mode": {
    "name": "ipython",
    "version": 3
   },
   "file_extension": ".py",
   "mimetype": "text/x-python",
   "name": "python",
   "nbconvert_exporter": "python",
   "pygments_lexer": "ipython3",
   "version": "3.11.4"
  }
 },
 "nbformat": 4,
 "nbformat_minor": 2
}
