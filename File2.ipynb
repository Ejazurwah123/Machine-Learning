{
 "cells": [
  {
   "cell_type": "code",
   "execution_count": 2,
   "metadata": {},
   "outputs": [],
   "source": [
    "#import pandas and name this namespace as pd\n",
    "import pandas as pd"
   ]
  },
  {
   "cell_type": "code",
   "execution_count": 3,
   "metadata": {},
   "outputs": [
    {
     "name": "stdout",
     "output_type": "stream",
     "text": [
      "       SepalLength  SepalWidth  PetalLength  PetalWidth\n",
      "count   149.000000  149.000000   149.000000  149.000000\n",
      "mean      5.848322    3.051007     3.774497    1.205369\n",
      "std       0.828594    0.433499     1.759651    0.761292\n",
      "min       4.300000    2.000000     1.000000    0.100000\n",
      "25%       5.100000    2.800000     1.600000    0.300000\n",
      "50%       5.800000    3.000000     4.400000    1.300000\n",
      "75%       6.400000    3.300000     5.100000    1.800000\n",
      "max       7.900000    4.400000     6.900000    2.500000\n"
     ]
    }
   ],
   "source": [
    "#Load data and name the columns\n",
    "data=pd.read_csv('./iris.data')\n",
    "data.columns=['SepalLength','SepalWidth','PetalLength','PetalWidth','Class']\n",
    "print (data.describe())"
   ]
  },
  {
   "cell_type": "code",
   "execution_count": 4,
   "metadata": {},
   "outputs": [
    {
     "name": "stdout",
     "output_type": "stream",
     "text": [
      "PetalLength= [1.4, 1.3, 1.5, 1.4, 1.7, 1.4, 1.5, 1.4, 1.5, 1.5, 1.6, 1.4, 1.1, 1.2, 1.5, 1.3, 1.4, 1.7, 1.5, 1.7, 1.5, 1.0, 1.7, 1.9, 1.6, 1.6, 1.5, 1.4, 1.6, 1.6, 1.5, 1.5, 1.4, 1.5, 1.2, 1.3, 1.5, 1.3, 1.5, 1.3, 1.3, 1.3, 1.6, 1.9, 1.4, 1.6, 1.4, 1.5, 1.4, 4.7, 4.5, 4.9, 4.0, 4.6, 4.5, 4.7, 3.3, 4.6, 3.9, 3.5, 4.2, 4.0, 4.7, 3.6, 4.4, 4.5, 4.1, 4.5, 3.9, 4.8, 4.0, 4.9, 4.7, 4.3, 4.4, 4.8, 5.0, 4.5, 3.5, 3.8, 3.7, 3.9, 5.1, 4.5, 4.5, 4.7, 4.4, 4.1, 4.0, 4.4, 4.6, 4.0, 3.3, 4.2, 4.2, 4.2, 4.3, 3.0, 4.1, 6.0, 5.1, 5.9, 5.6, 5.8, 6.6, 4.5, 6.3, 5.8, 6.1, 5.1, 5.3, 5.5, 5.0, 5.1, 5.3, 5.5, 6.7, 6.9, 5.0, 5.7, 4.9, 6.7, 4.9, 5.7, 6.0, 4.8, 4.9, 5.6, 5.8, 6.1, 6.4, 5.6, 5.1, 5.6, 6.1, 5.6, 5.5, 4.8, 5.4, 5.6, 5.1, 5.1, 5.9, 5.7, 5.2, 5.0, 5.2, 5.4, 5.1]\n",
      "PetalWidth= [0.2, 0.2, 0.2, 0.2, 0.4, 0.3, 0.2, 0.2, 0.1, 0.2, 0.2, 0.1, 0.1, 0.2, 0.4, 0.4, 0.3, 0.3, 0.3, 0.2, 0.4, 0.2, 0.5, 0.2, 0.2, 0.4, 0.2, 0.2, 0.2, 0.2, 0.4, 0.1, 0.2, 0.1, 0.2, 0.2, 0.1, 0.2, 0.2, 0.3, 0.3, 0.2, 0.6, 0.4, 0.3, 0.2, 0.2, 0.2, 0.2, 1.4, 1.5, 1.5, 1.3, 1.5, 1.3, 1.6, 1.0, 1.3, 1.4, 1.0, 1.5, 1.0, 1.4, 1.3, 1.4, 1.5, 1.0, 1.5, 1.1, 1.8, 1.3, 1.5, 1.2, 1.3, 1.4, 1.4, 1.7, 1.5, 1.0, 1.1, 1.0, 1.2, 1.6, 1.5, 1.6, 1.5, 1.3, 1.3, 1.3, 1.2, 1.4, 1.2, 1.0, 1.3, 1.2, 1.3, 1.3, 1.1, 1.3, 2.5, 1.9, 2.1, 1.8, 2.2, 2.1, 1.7, 1.8, 1.8, 2.5, 2.0, 1.9, 2.1, 2.0, 2.4, 2.3, 1.8, 2.2, 2.3, 1.5, 2.3, 2.0, 2.0, 1.8, 2.1, 1.8, 1.8, 1.8, 2.1, 1.6, 1.9, 2.0, 2.2, 1.5, 1.4, 2.3, 2.4, 1.8, 1.8, 2.1, 2.4, 2.3, 1.9, 2.3, 2.5, 2.3, 1.9, 2.0, 2.3, 1.8]\n"
     ]
    }
   ],
   "source": [
    "#Code for generating data....\n",
    "datalist=[] #create an empty list\n",
    "# data list is a list of two elements, where index=0 contains data corresponding to petal \n",
    "# length and index=1 contains data corresponding to petal width\n",
    "datalist.append(list(data['PetalLength'].dropna()))\n",
    "datalist.append(list(data['PetalWidth'].dropna()))\n",
    "datalist.append(list(data['SepalLength'].dropna()))\n",
    "datalist.append(list(data['SepalWidth'].dropna()))\n",
    "\n",
    "#If you want you build a numpy array from this list.\n",
    "\n",
    "print (\"PetalLength=\", datalist[0])\n",
    "print (\"PetalWidth=\", datalist[1])\n",
    "\n",
    "#This and above code are both same...\n",
    "# datalist=[0]*2#create a list of 2 elements\n",
    "# datalist[0]=(list(data['PetalLength'].dropna()))\n",
    "# datalist[1]=(list(data['PetalWidth'].dropna()))\n",
    "#data list is a list of two elements, where index=0 contains data corresponding to petal \n",
    "# length and index=1 contains data corresponding to petal width\n",
    "# print(\"PetalLength=\", datalist[0])\n",
    "# print(\"PetalWidth=\", datalist[1])"
   ]
  },
  {
   "cell_type": "markdown",
   "metadata": {},
   "source": [
    "*In all the tasks given below use the list variable `datalist` (defined above) to answer all the questions.*\n",
    "\n",
    "#### Task1\n",
    "----------------\n",
    "Lets model the petal length and width as continuous random variable $X=(x_1,x_2)$. Find the mean of this random variable. Here $x_1$ specifies the petal length and $x_2$ its width."
   ]
  },
  {
   "cell_type": "code",
   "execution_count": 5,
   "metadata": {},
   "outputs": [
    {
     "name": "stdout",
     "output_type": "stream",
     "text": [
      "Mean: (3.7744966442953043, 1.2053691275167793)\n"
     ]
    }
   ],
   "source": [
    "#Write your code here\n",
    "# Making a Function to compute Mean\n",
    "def compute_mean(features):\n",
    "    mean_sum = 0\n",
    "    for value in features:\n",
    "        mean_sum += value\n",
    "    Mean = mean_sum / len(features)\n",
    "    return Mean\n",
    "\n",
    "Petal_Length = datalist[0]\n",
    "Petal_Width = datalist[1]\n",
    "# Mean of Petal Length\n",
    "pl_mean = compute_mean(Petal_Length)\n",
    "# Mean of Petal Width\n",
    "pw_mean = compute_mean(Petal_Width)\n",
    "\n",
    "Mean_Tuple = (pl_mean,pw_mean)\n",
    "print('Mean:',Mean_Tuple)\n",
    "\n"
   ]
  },
  {
   "cell_type": "markdown",
   "metadata": {},
   "source": [
    "#### Task2\n",
    "----------------\n",
    "Compute the covariance matrix $X$ using outper product formula, i.e. $\\Sigma=\\frac{1}{n}Z^T\\;Z$, where $Z$ is centered data matrix (mean = 0)"
   ]
  },
  {
   "cell_type": "code",
   "execution_count": 6,
   "metadata": {},
   "outputs": [],
   "source": [
    "import numpy as np"
   ]
  },
  {
   "cell_type": "code",
   "execution_count": 7,
   "metadata": {},
   "outputs": [],
   "source": [
    "def Construct_Data_Matrix(list1,list2):\n",
    "    if len(list1) != len(list2):\n",
    "        print('Lists must be of same length')\n",
    "        return 0\n",
    "    \n",
    "    dataMatrix = []\n",
    "    for i in range(len(list1)):\n",
    "        dataMatrix.append([list1[i],list2[i]])\n",
    "    return  dataMatrix\n",
    "\n",
    "\n",
    "def Construct_Centered_DM(datamatrix,Mean_list):\n",
    "    centeredDataMatrix = []\n",
    "    for tups in datamatrix:\n",
    "        val1 = tups[0] - Mean_list[0]\n",
    "        val2 = tups[1] - Mean_list[1]\n",
    "        centeredDataMatrix.append([val1,val2])\n",
    "    return centeredDataMatrix\n",
    "\n",
    "def check_OneD(matrix):\n",
    "    check1 = type(matrix) == list\n",
    "    check2 = len(matrix) > 0\n",
    "    check3 = type(matrix[0]) != list\n",
    "    return check1 and check2 and check3\n",
    "    \n",
    "def Take_Transpose(datamatrix):\n",
    "    \n",
    "    # check is datamatrix is 1D\n",
    "    check_if_1D = check_OneD(datamatrix)\n",
    "    if check_if_1D == True:\n",
    "        transposed = []\n",
    "        for element in datamatrix:\n",
    "            transposed.append(element)\n",
    "        return transposed\n",
    "    \n",
    "    # else it will only deal with 2x2 matrix\n",
    "    rows_count = len(datamatrix)\n",
    "    cols_count = len(datamatrix[0])\n",
    "    transposed_mat = []\n",
    "    for i in range(cols_count):\n",
    "        row = []\n",
    "        for j in range(rows_count):\n",
    "            row.append(datamatrix[j][i])\n",
    "        transposed_mat.append(row) #appending the new constructed row in to the transposed matrix\n",
    "    return transposed_mat\n",
    "   \n",
    "def Check_if_Vector(Mat):\n",
    "    if type(Mat) != list:\n",
    "        check1 = False\n",
    "    \n",
    "    return 0     \n",
    "\n",
    "def Calc_DotProduct(Matrix1, Matrix2):\n",
    "    if len(Matrix1[0]) != len(Matrix2):\n",
    "        return \"Matrices cannot be multiplied\"\n",
    "    else:\n",
    "        # Initializing a new matrix with zeros which will then hold the result\n",
    "        rows_Matrix1 = len(Matrix1)\n",
    "        cols_Matrix2 = len(Matrix2[0])\n",
    "        dt = [[0 for _ in range(cols_Matrix2)] for _ in range(rows_Matrix1)]\n",
    "        for i in range(len(Matrix1)):\n",
    "            # looping through rows of first Matrix\n",
    "            for j in range(len(Matrix2[0])):\n",
    "                # looping through cols of Second Matrix\n",
    "                temp_result = 0\n",
    "                for t in range(len(Matrix1[0])): \n",
    "                    temp_result += Matrix1[i][t] * Matrix2[t][j]\n",
    "                dt[i][j] = temp_result           \n",
    "    return dt\n"
   ]
  },
  {
   "cell_type": "code",
   "execution_count": 8,
   "metadata": {},
   "outputs": [
    {
     "name": "stdout",
     "output_type": "stream",
     "text": [
      "Covariance Matrix of Centered Data: \n",
      "[[3.075591189586054, 1.2804725012386828], [1.2804725012386828, 0.5756758704562862]]\n"
     ]
    }
   ],
   "source": [
    "#Write your code here\n",
    "dataMatrix=Construct_Data_Matrix(datalist[0],datalist[1])\n",
    "# Computing th mean of the columns of datamatrix\n",
    "dataMat_Col1_mean = 0\n",
    "dataMat_Col2_mean = 0\n",
    "temp_col1 , temp_col2 = 0,0\n",
    "# for tups in dataMatrix:\n",
    "#     temp_col1 += tups[0]\n",
    "#     temp_col2 += tups[1]\n",
    "import numpy as np\n",
    "\n",
    "# dataMat_Col1_mean = temp_col1 / len(dataMatrix)\n",
    "# dataMat_Col2_mean = temp_col2 / len(dataMatrix)\n",
    "# Petal Length and Width Mean Vector\n",
    "Mean_list = [pl_mean,pw_mean]\n",
    "\n",
    "# Now Centering the data by subtracting the Mean\n",
    "centeredDataMatrix = Construct_Centered_DM(dataMatrix,Mean_list) \n",
    "# centeredDataMatrix is Z basically\n",
    "# n is the length of the centered Matrix\n",
    "# print(centeredDataMatrix)\n",
    "n = len(centeredDataMatrix)\n",
    "# taking transpose\n",
    "transposed_dataMatrix = Take_Transpose(centeredDataMatrix)\n",
    "# Now take Dot Product of CenteredDataMAtrix Transpose and MAtrix itself\n",
    "# print(transposed_dataMatrix )\n",
    "dot_prod = Calc_DotProduct(transposed_dataMatrix,centeredDataMatrix)\n",
    "# print(dot_prod)\n",
    "one_of_n = 1 / n\n",
    "\n",
    "# Covariance_Matrix = [[(1/n) * i for i in row] for row in dot_prod]\n",
    "Covariance_Matrix = []\n",
    "for row in dot_prod:\n",
    "    cov_value = [one_of_n * points for points in row]\n",
    "    Covariance_Matrix.append(cov_value)\n",
    "    \n",
    "    \n",
    "print('Covariance Matrix of Centered Data: ')\n",
    "print(Covariance_Matrix)\n",
    "\n",
    "    \n",
    "    "
   ]
  },
  {
   "cell_type": "markdown",
   "metadata": {},
   "source": [
    "#### Task3: Multivariate Gaussian\n",
    "----------------\n",
    "Let's model $X$ with multivariate Gaussian. Find the probability of having flowers with petal width and height in the following range $P(3.5 < x_1 < 3.7,5.5 < x_2 <5.6)$.\n",
    "Recall that \n",
    "$$f_{\\mathbf x}(x_1,\\ldots,x_k) = \\frac{1}{\\sqrt{(2\\pi)^k|\\boldsymbol\\Sigma|}} \\exp\\left(-\\frac{1}{2}({\\mathbf x}-{\\boldsymbol\\mu})^\\mathrm{T}{\\boldsymbol\\Sigma}^{-1}({\\mathbf x}-{\\boldsymbol\\mu}) \\right)$$\n",
    "\n",
    "where ${\\mathbf x}$ is a real k-dimensional column vector and $|\\boldsymbol\\Sigma|$ is the determinant of $\\boldsymbol\\Sigma$. For our this case $k=2$ "
   ]
  },
  {
   "cell_type": "code",
   "execution_count": 9,
   "metadata": {},
   "outputs": [],
   "source": [
    "def Calc_Variance(List1,list_mean):\n",
    "    var = 0\n",
    "    temp = 0\n",
    "    dif = 0\n",
    "    squared_dif = 0\n",
    "    for val in List1:\n",
    "        dif = val - list_mean\n",
    "        squared_dif = dif ** 2\n",
    "        temp += squared_dif\n",
    "    var = temp / (len(List1)-1)\n",
    "    return var\n",
    "def Calc_StandardDeviation(List1,Mean1):\n",
    "    std = sqr_root(Calc_Variance(List1,Mean1))\n",
    "    return std\n",
    "\n",
    "def sqr_root(value):\n",
    "    return value ** 0.5\n",
    "\n",
    "def zScore(x, mean, std):\n",
    "    return (x - mean) / std\n",
    "\n",
    "# Petal Length Variance and Standard Deviation\n",
    "pl_var = Calc_Variance(datalist[0],Mean_list[0])\n",
    "pw_var = Calc_Variance(datalist[1],Mean_list[1])\n",
    "Petal_var_vector = [pl_var,pw_var]\n",
    "pl_std = sqr_root(pl_var)\n",
    "pw_std = sqr_root(pw_var)\n",
    "Petal_std_vector = [pl_std,pw_std]\n",
    "\n",
    "lower_bound_x1 = 3.5\n",
    "upper_bound_x1 = 3.7\n",
    "lower_bound_x2 = 5.5\n",
    "upper_bound_x2 = 5.6\n",
    "\n",
    "# z1_lower = zScore(x1_lower,Mean_list[1],pw_std)\n",
    "# z1_Upper = zScore(x1_upper,Mean_list[1],pw_std)\n",
    "# z2_lower = zScore(x2_lower,Mean_list[0],pl_std)\n",
    "# z2_Upper = zScore(x2_upper,Mean_list[0],pl_std)\n",
    "\n"
   ]
  },
  {
   "cell_type": "code",
   "execution_count": 10,
   "metadata": {},
   "outputs": [],
   "source": [
    "def Find_Determinant(Matrix1):\n",
    "    if len(Matrix1) != 2:\n",
    "        print('This function can only compute Determinant of 2x2 Matrix')\n",
    "        return -1\n",
    "    det = (Matrix1[0][0] * Matrix1[1][1]) - (Matrix1[0][1] * Matrix1[1][0])\n",
    "    return det\n",
    "\n",
    "def Inverse_Covariance_Matrix(cov_mat):\n",
    "    Determinant = Find_Determinant(cov_mat)\n",
    "    if Determinant == 0:\n",
    "        print(\"The matrix is singular and cannot be inverted.\")\n",
    "        return -1\n",
    "    Adjoint_Matrix = [\n",
    "        [cov_mat[1][1],-(cov_mat[0][1])],\n",
    "        [-(cov_mat[1][0]),cov_mat[0][0]]\n",
    "    ]\n",
    "    \n",
    "    inverse_of_det = 1 / Determinant \n",
    "    Inverse_of_Matrix = [\n",
    "        [inverse_of_det * Adjoint_Matrix[0][0],inverse_of_det * Adjoint_Matrix[0][1] ],\n",
    "        [inverse_of_det * Adjoint_Matrix[1][0],inverse_of_det * Adjoint_Matrix[1][1] ]\n",
    "    ]\n",
    "    return Inverse_of_Matrix"
   ]
  },
  {
   "cell_type": "code",
   "execution_count": 11,
   "metadata": {},
   "outputs": [],
   "source": [
    "def Vector_Mulitply_Matrix(Matrix,Vector):\n",
    "    # first of all we will make sure that our matrix is of 2x2 and vector is of shape(1,2)\n",
    "    \n",
    "    if len(Vector) != 2:\n",
    "        print('Vector must be of shape (1 row, 2 col)')\n",
    "        return -1\n",
    "    \n",
    "    if len(Matrix) != 2 :\n",
    "    # :\n",
    "        print('Matrix should be of 2x2')\n",
    "        return -1\n",
    "\n",
    "    temp_sum, temp_prod = 0,0\n",
    "    product = []\n",
    "    for row in Matrix:\n",
    "        temp_prod = 0\n",
    "        for j in range(len(Vector)):\n",
    "            temp_prod += row[j] * Vector[j]\n",
    "        product.append(temp_prod)\n",
    "            \n",
    "    return product\n",
    "\n",
    "def DotProd_of_Vector(V1,V2):\n",
    "    V3 = [0,0]\n",
    "    # if len(V1) !=2 or len(V2) != 2:\n",
    "    #     print('Vectors must b of Shape [1 row, 2 Cols]')\n",
    "    #     return -1\n",
    "    V3[0] = V1[0][0] * V2[0][0]\n",
    "    V3[1] = V1[1][0] * V2[0][1]\n",
    "    result = V3[0] + V3[1]\n",
    "    return result"
   ]
  },
  {
   "cell_type": "code",
   "execution_count": 12,
   "metadata": {},
   "outputs": [],
   "source": [
    "e = 2.71828 \n",
    "pi = 3.14159\n",
    "\n",
    "# def check_OneD(matrix):\n",
    "#     check1 = type(matrix) == list\n",
    "#     check2 = len(matrix) > 0\n",
    "#     check3 = type(matrix[0]) != list\n",
    "#     return check1 and check2 and check3\n",
    "\n",
    "\n",
    "def Multivariate_Gaussian_PDF(value_x,Mean,covariance_matrix):\n",
    "    k = 2 #specified in the Question\n",
    "    # firstly working on the Coefficient of exp which is ( 1 / sqrt( ((2*pi)^k)* Inverse of COVMat )\n",
    "    Coeff_of_exp = 0\n",
    "    determinant_of_cov_mat = Find_Determinant(covariance_matrix) # |cov| determinant of covariance matrix\n",
    "    # print(determinant_of_cov_mat)\n",
    "    two_into_pi_raised_power_k = (2 * pi)**k  # (2pi)^k\n",
    "    # print(two_into_pi_raised_power_k)\n",
    "    temp = determinant_of_cov_mat * two_into_pi_raised_power_k # (2pi)^k * |cov|\n",
    "    # print(temp)\n",
    "    sqrRoot = sqr_root(temp) # ((2pi)^k * |cov| )^(1/2)\n",
    "    # print(sqrRoot)\n",
    "    Coeff_of_exp = 1 / sqrRoot # (1 /  ((2pi)^k * |cov| )^(1/2))\n",
    "    # print(Coeff_of_exp)\n",
    "    # Now working on the Power of exp\n",
    "    Diff_btw_x_and_mu = [ [x-m] for x,m in zip(value_x,Mean)] # (x - mu)\n",
    "    # print('(x-mu)',Diff_btw_x_and_mu)\n",
    "    Transpose_of_Diff_btw_x_and_mu = Take_Transpose(Diff_btw_x_and_mu)  # (x - mu).Transpose\n",
    "    # print('(x-mu).T',Transpose_of_Diff_btw_x_and_mu)\n",
    "    inverse_of_cov_mat = Inverse_Covariance_Matrix(covariance_matrix)  # inverse of covariance matrix\n",
    "    # print('inv cov',inverse_of_cov_mat)\n",
    "    product1 = Calc_DotProduct(inverse_of_cov_mat,Diff_btw_x_and_mu)\n",
    "    # print('inv * (x-mu)',product1) #product one is a vector hance we will use vector multiplie vector function\n",
    "    # product2 = Calc_DotProduct(product1,Transpose_of_Diff_btw_x_and_mu)\n",
    "    product2 = DotProd_of_Vector(product1,Transpose_of_Diff_btw_x_and_mu)\n",
    "    # print(product1)\n",
    "    # print('inv * (x-mu) * (x-mu).T',product2)\n",
    "    power_of_exp = -0.5 * product2\n",
    "    # print(power_of_exp)\n",
    "    pdf_value = Coeff_of_exp * (e ** power_of_exp)\n",
    "    # print(pdf_value)\n",
    "    return pdf_value"
   ]
  },
  {
   "cell_type": "code",
   "execution_count": 13,
   "metadata": {},
   "outputs": [
    {
     "name": "stdout",
     "output_type": "stream",
     "text": [
      "PDF value at x=3.5 and x2=5.5:  3.073995955143104e-100\n",
      "PDF value at x=3.7 and x2=5.6:  5.477579863067956e-101\n",
      "PDF value at x=3.5 and x2=5.6:  8.68913802905471e-105\n",
      "PDF value at x=3.7 and x2=5.5:  1.5935707896427265e-96\n"
     ]
    }
   ],
   "source": [
    "#Now go and use the function to find the pdf value and compares these newly computed value\n",
    "#with the earlier value and compute the difference...\n",
    "# evaluating pdf values for the whole range\n",
    "mgp_value_at_x1Lower_x2_lower = Multivariate_Gaussian_PDF([lower_bound_x1,lower_bound_x2],Mean_list,Covariance_Matrix)\n",
    "mgp_value_at_x1upper_x2_upper = Multivariate_Gaussian_PDF([upper_bound_x1,upper_bound_x2],Mean_list,Covariance_Matrix)\n",
    "mgp_value_at_x1lower_x2_upper = Multivariate_Gaussian_PDF([lower_bound_x1,upper_bound_x2],Mean_list,Covariance_Matrix)\n",
    "mgp_value_at_x1upper_x2_lower = Multivariate_Gaussian_PDF([upper_bound_x1,lower_bound_x2],Mean_list,Covariance_Matrix)\n",
    "# mgp_value_at_x1Lower_x2_lower\n",
    "change_in_xone = upper_bound_x1 - lower_bound_x1\n",
    "change_in_xtwo = upper_bound_x2 - lower_bound_x2\n",
    "\n",
    "print('PDF value at x=3.5 and x2=5.5: ',mgp_value_at_x1Lower_x2_lower)\n",
    "print('PDF value at x=3.7 and x2=5.6: ',mgp_value_at_x1upper_x2_upper)\n",
    "print('PDF value at x=3.5 and x2=5.6: ',mgp_value_at_x1lower_x2_upper)\n",
    "print('PDF value at x=3.7 and x2=5.5: ',mgp_value_at_x1upper_x2_lower)"
   ]
  },
  {
   "cell_type": "markdown",
   "metadata": {},
   "source": [
    "#### Task4: Multivariate Gaussian\n",
    "\n",
    "Now consider that both the attributes are statistically independent and normally distributed then what will be the probability of $P(3.5 < x_1 < 3.7,5.5 < x_2 <5.6)$\n"
   ]
  },
  {
   "cell_type": "code",
   "execution_count": 14,
   "metadata": {},
   "outputs": [],
   "source": [
    "# To compute probabilities over this range we need to integrate the pdf function over the given range\n",
    "# as not allowed to use external math library we need to impelement integration from scratch\n",
    "# for which I am going to use Trapezoidal Rule to Approximate the porbability\n",
    "def Integration_By_Trapezoidal(Lower_Bound,Upper_Bound,Mean,cov_mat,count):\n",
    "    # First step calculate width of each trapezoid\n",
    "    trap_width = (Upper_Bound - Lower_Bound) / count\n",
    "    sum_of_area = (1/2) * (Multivariate_Gaussian_PDF([Lower_Bound,Mean[1]],Mean,cov_mat) + Multivariate_Gaussian_PDF([Upper_Bound,Mean[1]],Mean,cov_mat))\n",
    "    \n",
    "    # now we will run a loop for all sub intervals \n",
    "    for interval in range(1,count):\n",
    "        # for each interval we will calculate the area of trapezoid\n",
    "        # and add it to sum_of_area\n",
    "        # Lower bound over here is the start of the interval\n",
    "        # interval * trap_width\n",
    "        # here interval is the current index in loop\n",
    "        # which goes uptil count - 1\n",
    "        # trap_width is step size, which represents the distance between \n",
    "        # consecutive points on the x-axis (the width of each trapezoid)\n",
    "        # hence interval * trap_width moves you interval steps from the Lower Bound\n",
    "        # spacing each point by trap width\n",
    "        temp = Lower_Bound + interval * trap_width\n",
    "        # then evaluating the Gaussian pdf value at temp point\n",
    "        sum_of_area += Multivariate_Gaussian_PDF([temp,Mean[1]],Mean,cov_mat)\n",
    "        # sum represents the height of trapezoids \n",
    "        # (function values at different points along the x-axis).\n",
    "        \n",
    "    # Each trapezoid's area is calculated as height×width\n",
    "    # as we got the height now we will multiply it with the trap width\n",
    "    sum_of_area = sum_of_area * trap_width \n",
    "    # now return the integrated function value\n",
    "    return sum_of_area\n",
    "\n",
    "def Find_Probability_in_Interval(x1L, x1U, x2L, x2U, Mean_list,cov_mat):\n",
    "    x1_probability = Integration_By_Trapezoidal(x1L, x1U,Mean_list,cov_mat,1000)\n",
    "    x2_probability = Integration_By_Trapezoidal(x2L, x2U,Mean_list,cov_mat,1000)\n",
    "    return x1_probability*x2_probability"
   ]
  },
  {
   "cell_type": "code",
   "execution_count": 15,
   "metadata": {},
   "outputs": [
    {
     "name": "stdout",
     "output_type": "stream",
     "text": [
      "P(3.5 < x_1 < 3.7,5.5 < x_2 <5.6): 3.5996439978488728e-06\n"
     ]
    }
   ],
   "source": [
    "Final_Probability = Find_Probability_in_Interval(3.5, 3.7, 5.5, 5.6, Mean_list,Covariance_Matrix)\n",
    "print(f'P(3.5 < x_1 < 3.7,5.5 < x_2 <5.6): {Final_Probability}')"
   ]
  },
  {
   "cell_type": "markdown",
   "metadata": {},
   "source": [
    "#### Task5: Categorical Random Variables.\n",
    "----------------\n",
    "Lets categorize the petal length variable to four categories, i.e very short $\\in[1,1.6]$, short $\\in(1.6,4.4]$, long $\\in(4.4,5.1]$, very long $\\in(5.1,6.9]$ and model this varible using random variable $x$\n",
    "\n",
    "Find the probability of this cateogrical random variable."
   ]
  },
  {
   "cell_type": "code",
   "execution_count": 16,
   "metadata": {},
   "outputs": [
    {
     "name": "stdout",
     "output_type": "stream",
     "text": [
      "P(1.0<x<1.6) 0.28859060402684567\n",
      "P(1.6<x<4.4) 0.2348993288590604\n",
      "P(4.5<x<5.1) 0.2483221476510067\n",
      "P(5.1<x<6.9) 0.22818791946308725\n"
     ]
    }
   ],
   "source": [
    "# Write your code here\n",
    "# Strategy is to first make ranges that are mentioned and then counting the number of sample \n",
    "# Falling in that range divided by the total length of the samples in the domain\n",
    "pl_range_from_one_to_15 = []\n",
    "pl_range_from_16_to_43 = []\n",
    "pl_range_from_44_to_50 = []\n",
    "pl_range_from_51_to_68 = []\n",
    "\n",
    "for value in datalist[0]:\n",
    "    \n",
    "    # case 1\n",
    "    if value>=1 and value<=1.6:\n",
    "        pl_range_from_one_to_15.append(value)\n",
    "\n",
    "    # case 2\n",
    "    if value>1.6 and value<=4.4:\n",
    "        pl_range_from_16_to_43.append(value)\n",
    "    \n",
    "    # case 3\n",
    "    if value>=4.5 and value<=5.1:\n",
    "        pl_range_from_44_to_50.append(value)\n",
    "    \n",
    "    # case 4\n",
    "    if value>5.1 and value<=6.9:\n",
    "        pl_range_from_51_to_68.append(value)\n",
    "\n",
    "Prob_pl_range_from_one_to_15 = len(pl_range_from_one_to_15) / len(datalist[0])\n",
    "Prob_pl_range_from_16_to_43 = len(pl_range_from_16_to_43) / len(datalist[0])\n",
    "Prob_pl_range_from_44_to_50 = len(pl_range_from_44_to_50) / len(datalist[0])\n",
    "Prob_pl_range_from_51_to_68 = len(pl_range_from_51_to_68) / len(datalist[0])\n",
    "\n",
    "print('P(1.0<x<1.6)',Prob_pl_range_from_one_to_15)\n",
    "print('P(1.6<x<4.4)',Prob_pl_range_from_16_to_43)\n",
    "print('P(4.5<x<5.1)',Prob_pl_range_from_44_to_50)\n",
    "print('P(5.1<x<6.9)',Prob_pl_range_from_51_to_68)\n",
    "\n",
    "\n"
   ]
  },
  {
   "cell_type": "code",
   "execution_count": 17,
   "metadata": {},
   "outputs": [
    {
     "name": "stdout",
     "output_type": "stream",
     "text": [
      "P(Very Short):  0.28859060402684567\n",
      "P(Short):  0.2348993288590604\n",
      "P(Long):  0.2483221476510067\n",
      "P(Very Long):  0.22818791946308725\n"
     ]
    }
   ],
   "source": [
    "categorization = {\n",
    "    'Very Short': 0,\n",
    "    'Short': 0,\n",
    "    'Long': 0,\n",
    "    'Very Long': 0\n",
    "}\n",
    "\n",
    "def Determine_Category_of_Petal_length(value):\n",
    "        # case 1\n",
    "    if value>=1 and value<=1.6:\n",
    "        return 'Very Short'\n",
    "\n",
    "    # case 2\n",
    "    if value>1.6 and value<=4.4:\n",
    "        return 'Short'\n",
    "    \n",
    "    # case 3\n",
    "    if value>=4.5 and value<=5.1:\n",
    "        return 'Long'\n",
    "    \n",
    "    # case 4\n",
    "    if value>5.1 and value<=6.9:\n",
    "        return 'Very Long'\n",
    "    \n",
    "    else:\n",
    "        return 'Not Found'\n",
    "\n",
    "for pls in datalist[0]:\n",
    "    extracted_category = Determine_Category_of_Petal_length(pls)\n",
    "    if extracted_category != 'Not Found':\n",
    "        categorization[extracted_category] += 1 #incrementing the count of that specific cateogry\n",
    "        \n",
    "print('P(Very Short): ',categorization['Very Short']/len(datalist[0]))\n",
    "print('P(Short): ',categorization['Short']/len(datalist[0]))\n",
    "print('P(Long): ',categorization['Long']/len(datalist[0]))\n",
    "print('P(Very Long): ',categorization['Very Long']/len(datalist[0]))"
   ]
  },
  {
   "cell_type": "code",
   "execution_count": 18,
   "metadata": {},
   "outputs": [],
   "source": [
    "Prob_VeryShort = categorization['Very Short']/len(datalist[0])\n",
    "Prob_Short = categorization['Short']/len(datalist[0])\n",
    "Prob_Long = categorization['Long']/len(datalist[0])\n",
    "Prob_VeryLong = categorization['Very Long']/len(datalist[0])                                          "
   ]
  },
  {
   "cell_type": "markdown",
   "metadata": {},
   "source": [
    "#### Task6: Categorical Random Variables.\n",
    "Find the mean and covariance matrix of categorical variable $x$."
   ]
  },
  {
   "cell_type": "code",
   "execution_count": 19,
   "metadata": {},
   "outputs": [
    {
     "name": "stdout",
     "output_type": "stream",
     "text": [
      "Mean of Categorical Data Petal Length:  2.4161073825503356\n",
      "Covariance of Categorical Data Petal Length:  [[1.2851442046072894]]\n"
     ]
    }
   ],
   "source": [
    "#Write your code here\n",
    "convert_categories_to_numeric_val = {\n",
    "    # first category\n",
    "    'Very Short': 1,\n",
    "    # second category\n",
    "    'Short': 2,\n",
    "    # third category\n",
    "    'Long': 3,\n",
    "    # fourth category\n",
    "    'Very Long' : 4\n",
    "}\n",
    "categorised_petal_lengths = []\n",
    "for petal_l in datalist[0]:\n",
    "    categ = Determine_Category_of_Petal_length(petal_l)\n",
    "    numeric_val = convert_categories_to_numeric_val[categ]\n",
    "    categorised_petal_lengths.append(numeric_val)\n",
    "\n",
    "\n",
    "Mean_of_categorical_petal_lengths = compute_mean(categorised_petal_lengths)\n",
    "Variance_of_categorical_petal_lengths = Calc_Variance(categorised_petal_lengths,Mean_of_categorical_petal_lengths)\n",
    "covraince_of_categorical_petal_lengths = [[Variance_of_categorical_petal_lengths]]\n",
    "print('Mean of Categorical Data Petal Length: ',Mean_of_categorical_petal_lengths)\n",
    "print('Covariance of Categorical Data Petal Length: ',covraince_of_categorical_petal_lengths)"
   ]
  },
  {
   "cell_type": "markdown",
   "metadata": {},
   "source": [
    "#### Task7: Categorical Random Variables.\n",
    "\n",
    "If we select 10 random flowers what will be the probability of picking 3 very short length, 2 short length, 4 long length and 1 very long petal length flowers."
   ]
  },
  {
   "cell_type": "code",
   "execution_count": 20,
   "metadata": {},
   "outputs": [],
   "source": [
    "def Calc_Factorial(value):\n",
    "    if value == 0:\n",
    "        return 1\n",
    "    else:\n",
    "        factorial = 1\n",
    "        for i in range(1, value + 1): \n",
    "            factorial *= i \n",
    "        return factorial\n",
    "\n",
    "def Raised_to_power(value,power):\n",
    "    return value ** power"
   ]
  },
  {
   "cell_type": "code",
   "execution_count": 21,
   "metadata": {},
   "outputs": [
    {
     "name": "stdout",
     "output_type": "stream",
     "text": [
      "P(Very Short=3, Short=2, Long=4, Very Long=1):  0.014498902511786727\n"
     ]
    }
   ],
   "source": [
    "#Write your code here\n",
    "# using multinomial probability formula\n",
    "fact_of_total_samples_picked = Calc_Factorial(10)\n",
    "fact_of_picking_3_veryshort = Calc_Factorial(3)\n",
    "fact_of_picking_2_short = Calc_Factorial(2)\n",
    "fact_of_picking_4_long = Calc_Factorial(4)\n",
    "fact_of_picking_1_very_long = Calc_Factorial(1)\n",
    "\n",
    "# n! / (x1! * x2! * x3! * x4!)\n",
    "part_one_of_eq = fact_of_total_samples_picked / (fact_of_picking_3_veryshort*fact_of_picking_2_short*fact_of_picking_4_long*fact_of_picking_1_very_long)\n",
    "Probability_1 = part_one_of_eq * (Prob_VeryShort**3) * (Prob_Short**2) * (Prob_Long**4) * (Prob_VeryLong**1)\n",
    "print('P(Very Short=3, Short=2, Long=4, Very Long=1): ',Probability_1)"
   ]
  },
  {
   "cell_type": "markdown",
   "metadata": {},
   "source": [
    "#### Task8: Bivariate Categorical Random Variables.\n",
    "----------------\n",
    "Lets also categorize the petal width variable to three categories, i.e short $\\in[0.1,1.0]$, medium  $\\in(1.0,1.75)$, long $\\in(1.75,2.5]$.\n",
    "\n",
    "Now lets model both the petal length and width as bivariate categorical random variable $X$.\n",
    "Find the probability for following cases.\n",
    "\n",
    "$$p(x_1=[1000], x_2=[000])$$\n",
    "$$p(x_1=[1000], x_2=[001])$$\n",
    "\n",
    "$$p(x_1=[0010], x_2=[010])$$\n",
    "$$p(x_1=[0001], x_2=[100])$$\n"
   ]
  },
  {
   "cell_type": "code",
   "execution_count": 22,
   "metadata": {},
   "outputs": [],
   "source": [
    "#Write your code here\n",
    "\n",
    "categ_n_index = {\n",
    "    'Very Short': 0,\n",
    "    # second category\n",
    "    'Short': 1,\n",
    "    # third category\n",
    "    'Long': 2,\n",
    "    # fourth category\n",
    "    'Very Long' : 3\n",
    "    \n",
    "}\n",
    "petal_length_categorised_list = []\n",
    "for pl in datalist[0]:\n",
    "    temp_list = [0] * 4\n",
    "    # har petal length k leyay aik list banaye ga [0000] and \n",
    "    # jis range se wu petal length belong karay gi\n",
    "    # us index ko 1 karega\n",
    "    categ = Determine_Category_of_Petal_length(pl)\n",
    "    get_index = categ_n_index[categ]\n",
    "    temp_list[get_index] = 1\n",
    "    petal_length_categorised_list.append(temp_list)\n",
    "    \n"
   ]
  },
  {
   "cell_type": "code",
   "execution_count": 23,
   "metadata": {},
   "outputs": [
    {
     "name": "stdout",
     "output_type": "stream",
     "text": [
      "[[1, 0, 0], [1, 0, 0], [1, 0, 0], [1, 0, 0], [1, 0, 0], [1, 0, 0], [1, 0, 0], [1, 0, 0], [1, 0, 0], [1, 0, 0], [1, 0, 0], [1, 0, 0], [1, 0, 0], [1, 0, 0], [1, 0, 0], [1, 0, 0], [1, 0, 0], [1, 0, 0], [1, 0, 0], [1, 0, 0], [1, 0, 0], [1, 0, 0], [1, 0, 0], [1, 0, 0], [1, 0, 0], [1, 0, 0], [1, 0, 0], [1, 0, 0], [1, 0, 0], [1, 0, 0], [1, 0, 0], [1, 0, 0], [1, 0, 0], [1, 0, 0], [1, 0, 0], [1, 0, 0], [1, 0, 0], [1, 0, 0], [1, 0, 0], [1, 0, 0], [1, 0, 0], [1, 0, 0], [1, 0, 0], [1, 0, 0], [1, 0, 0], [1, 0, 0], [1, 0, 0], [1, 0, 0], [1, 0, 0], [0, 1, 0], [0, 1, 0], [0, 1, 0], [0, 1, 0], [0, 1, 0], [0, 1, 0], [0, 1, 0], [1, 0, 0], [0, 1, 0], [0, 1, 0], [1, 0, 0], [0, 1, 0], [1, 0, 0], [0, 1, 0], [0, 1, 0], [0, 1, 0], [0, 1, 0], [1, 0, 0], [0, 1, 0], [0, 1, 0], [0, 0, 1], [0, 1, 0], [0, 1, 0], [0, 1, 0], [0, 1, 0], [0, 1, 0], [0, 1, 0], [0, 1, 0], [0, 1, 0], [1, 0, 0], [0, 1, 0], [1, 0, 0], [0, 1, 0], [0, 1, 0], [0, 1, 0], [0, 1, 0], [0, 1, 0], [0, 1, 0], [0, 1, 0], [0, 1, 0], [0, 1, 0], [0, 1, 0], [0, 1, 0], [1, 0, 0], [0, 1, 0], [0, 1, 0], [0, 1, 0], [0, 1, 0], [0, 1, 0], [0, 1, 0], [0, 0, 1], [0, 0, 1], [0, 0, 1], [0, 0, 1], [0, 0, 1], [0, 0, 1], [0, 1, 0], [0, 0, 1], [0, 0, 1], [0, 0, 1], [0, 0, 1], [0, 0, 1], [0, 0, 1], [0, 0, 1], [0, 0, 1], [0, 0, 1], [0, 0, 1], [0, 0, 1], [0, 0, 1], [0, 1, 0], [0, 0, 1], [0, 0, 1], [0, 0, 1], [0, 0, 1], [0, 0, 1], [0, 0, 1], [0, 0, 1], [0, 0, 1], [0, 0, 1], [0, 1, 0], [0, 0, 1], [0, 0, 1], [0, 0, 1], [0, 1, 0], [0, 1, 0], [0, 0, 1], [0, 0, 1], [0, 0, 1], [0, 0, 1], [0, 0, 1], [0, 0, 1], [0, 0, 1], [0, 0, 1], [0, 0, 1], [0, 0, 1], [0, 0, 1], [0, 0, 1], [0, 0, 1], [0, 0, 1], [0, 0, 1]]\n"
     ]
    }
   ],
   "source": [
    "# Now doing the same thing with Petal Widths\n",
    "def Determine_Category_of_Petal_Width(value):\n",
    "    # case 1\n",
    "    if value>=0.1 and value<=1.0:\n",
    "        return 'Short'\n",
    "\n",
    "    # case 2\n",
    "    if value>1.0 and value<1.75:\n",
    "        return 'Medium'\n",
    "    \n",
    "    # case 3\n",
    "    if value>1.75 and value<=2.5:\n",
    "        return 'Long'\n",
    "\n",
    "    else:\n",
    "        return 'Not Found'\n",
    "    \n",
    "\n",
    "categ_n_index2 = {\n",
    "    'Short': 0,\n",
    "    'Medium':1,\n",
    "    'Long': 2, \n",
    "}\n",
    "\n",
    "petal_width_categorised_list = []\n",
    "for pw in datalist[1]:\n",
    "    temp_list2 = [0] * 3\n",
    "    # har petal Width k leyay aik list banaye ga [0000] and \n",
    "    # jis range se wu petal width belong karay gi\n",
    "    # us index ko 1 karega\n",
    "    categ2 = Determine_Category_of_Petal_Width(pw)\n",
    "    get_index2 = categ_n_index2[categ2]\n",
    "    temp_list2[get_index2] = 1\n",
    "    petal_width_categorised_list.append(temp_list2)\n",
    "\n",
    "\n",
    "\n",
    "print(petal_width_categorised_list)"
   ]
  },
  {
   "cell_type": "code",
   "execution_count": null,
   "metadata": {},
   "outputs": [],
   "source": []
  },
  {
   "cell_type": "code",
   "execution_count": null,
   "metadata": {},
   "outputs": [],
   "source": []
  }
 ],
 "metadata": {
  "kernelspec": {
   "display_name": "Python 3",
   "language": "python",
   "name": "python3"
  },
  "language_info": {
   "codemirror_mode": {
    "name": "ipython",
    "version": 3
   },
   "file_extension": ".py",
   "mimetype": "text/x-python",
   "name": "python",
   "nbconvert_exporter": "python",
   "pygments_lexer": "ipython3",
   "version": "3.11.4"
  }
 },
 "nbformat": 4,
 "nbformat_minor": 2
}
