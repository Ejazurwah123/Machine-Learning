{
 "cells": [
  {
   "cell_type": "code",
   "execution_count": 1,
   "metadata": {},
   "outputs": [],
   "source": [
    "#import pandas and name this namespace as pd\n",
    "import pandas as pd"
   ]
  },
  {
   "cell_type": "code",
   "execution_count": 2,
   "metadata": {},
   "outputs": [
    {
     "name": "stdout",
     "output_type": "stream",
     "text": [
      "       SepalLength  SepalWidth  PetalLength  PetalWidth\n",
      "count   149.000000  149.000000   149.000000  149.000000\n",
      "mean      5.848322    3.051007     3.774497    1.205369\n",
      "std       0.828594    0.433499     1.759651    0.761292\n",
      "min       4.300000    2.000000     1.000000    0.100000\n",
      "25%       5.100000    2.800000     1.600000    0.300000\n",
      "50%       5.800000    3.000000     4.400000    1.300000\n",
      "75%       6.400000    3.300000     5.100000    1.800000\n",
      "max       7.900000    4.400000     6.900000    2.500000\n"
     ]
    }
   ],
   "source": [
    "#Load data and name the columns\n",
    "data=pd.read_csv('./iris.data')\n",
    "data.columns=['SepalLength','SepalWidth','PetalLength','PetalWidth','Class']\n",
    "print (data.describe())"
   ]
  },
  {
   "cell_type": "code",
   "execution_count": 3,
   "metadata": {},
   "outputs": [
    {
     "name": "stdout",
     "output_type": "stream",
     "text": [
      "PetalLength= [1.4, 1.3, 1.5, 1.4, 1.7, 1.4, 1.5, 1.4, 1.5, 1.5, 1.6, 1.4, 1.1, 1.2, 1.5, 1.3, 1.4, 1.7, 1.5, 1.7, 1.5, 1.0, 1.7, 1.9, 1.6, 1.6, 1.5, 1.4, 1.6, 1.6, 1.5, 1.5, 1.4, 1.5, 1.2, 1.3, 1.5, 1.3, 1.5, 1.3, 1.3, 1.3, 1.6, 1.9, 1.4, 1.6, 1.4, 1.5, 1.4, 4.7, 4.5, 4.9, 4.0, 4.6, 4.5, 4.7, 3.3, 4.6, 3.9, 3.5, 4.2, 4.0, 4.7, 3.6, 4.4, 4.5, 4.1, 4.5, 3.9, 4.8, 4.0, 4.9, 4.7, 4.3, 4.4, 4.8, 5.0, 4.5, 3.5, 3.8, 3.7, 3.9, 5.1, 4.5, 4.5, 4.7, 4.4, 4.1, 4.0, 4.4, 4.6, 4.0, 3.3, 4.2, 4.2, 4.2, 4.3, 3.0, 4.1, 6.0, 5.1, 5.9, 5.6, 5.8, 6.6, 4.5, 6.3, 5.8, 6.1, 5.1, 5.3, 5.5, 5.0, 5.1, 5.3, 5.5, 6.7, 6.9, 5.0, 5.7, 4.9, 6.7, 4.9, 5.7, 6.0, 4.8, 4.9, 5.6, 5.8, 6.1, 6.4, 5.6, 5.1, 5.6, 6.1, 5.6, 5.5, 4.8, 5.4, 5.6, 5.1, 5.1, 5.9, 5.7, 5.2, 5.0, 5.2, 5.4, 5.1]\n",
      "PetalWidth= [0.2, 0.2, 0.2, 0.2, 0.4, 0.3, 0.2, 0.2, 0.1, 0.2, 0.2, 0.1, 0.1, 0.2, 0.4, 0.4, 0.3, 0.3, 0.3, 0.2, 0.4, 0.2, 0.5, 0.2, 0.2, 0.4, 0.2, 0.2, 0.2, 0.2, 0.4, 0.1, 0.2, 0.1, 0.2, 0.2, 0.1, 0.2, 0.2, 0.3, 0.3, 0.2, 0.6, 0.4, 0.3, 0.2, 0.2, 0.2, 0.2, 1.4, 1.5, 1.5, 1.3, 1.5, 1.3, 1.6, 1.0, 1.3, 1.4, 1.0, 1.5, 1.0, 1.4, 1.3, 1.4, 1.5, 1.0, 1.5, 1.1, 1.8, 1.3, 1.5, 1.2, 1.3, 1.4, 1.4, 1.7, 1.5, 1.0, 1.1, 1.0, 1.2, 1.6, 1.5, 1.6, 1.5, 1.3, 1.3, 1.3, 1.2, 1.4, 1.2, 1.0, 1.3, 1.2, 1.3, 1.3, 1.1, 1.3, 2.5, 1.9, 2.1, 1.8, 2.2, 2.1, 1.7, 1.8, 1.8, 2.5, 2.0, 1.9, 2.1, 2.0, 2.4, 2.3, 1.8, 2.2, 2.3, 1.5, 2.3, 2.0, 2.0, 1.8, 2.1, 1.8, 1.8, 1.8, 2.1, 1.6, 1.9, 2.0, 2.2, 1.5, 1.4, 2.3, 2.4, 1.8, 1.8, 2.1, 2.4, 2.3, 1.9, 2.3, 2.5, 2.3, 1.9, 2.0, 2.3, 1.8]\n"
     ]
    }
   ],
   "source": [
    "#Code for generating data....\n",
    "datalist=[] #create an empty list\n",
    "# data list is a list of two elements, where index=0 contains data corresponding to petal \n",
    "# length and index=1 contains data corresponding to petal width\n",
    "datalist.append(list(data['PetalLength'].dropna()))\n",
    "datalist.append(list(data['PetalWidth'].dropna()))\n",
    "datalist.append(list(data['SepalLength'].dropna()))\n",
    "datalist.append(list(data['SepalWidth'].dropna()))\n",
    "\n",
    "#If you want you build a numpy array from this list.\n",
    "\n",
    "print (\"PetalLength=\", datalist[0])\n",
    "print (\"PetalWidth=\", datalist[1])\n",
    "\n",
    "#This and above code are both same...\n",
    "# datalist=[0]*2#create a list of 2 elements\n",
    "# datalist[0]=(list(data['PetalLength'].dropna()))\n",
    "# datalist[1]=(list(data['PetalWidth'].dropna()))\n",
    "#data list is a list of two elements, where index=0 contains data corresponding to petal \n",
    "# length and index=1 contains data corresponding to petal width\n",
    "# print(\"PetalLength=\", datalist[0])\n",
    "# print(\"PetalWidth=\", datalist[1])"
   ]
  },
  {
   "cell_type": "markdown",
   "metadata": {},
   "source": [
    "*In all the tasks given below use the list variable `datalist` (defined above) to answer all the questions.*\n",
    "\n",
    "#### Task1\n",
    "----------------\n",
    "Lets model the petal length and width as continuous random variable $X=(x_1,x_2)$. Find the mean of this random variable. Here $x_1$ specifies the petal length and $x_2$ its width."
   ]
  },
  {
   "cell_type": "code",
   "execution_count": 4,
   "metadata": {},
   "outputs": [
    {
     "name": "stdout",
     "output_type": "stream",
     "text": [
      "Mean: (3.7744966442953043, 1.2053691275167793)\n"
     ]
    }
   ],
   "source": [
    "#Write your code here\n",
    "# Making a Function to compute Mean\n",
    "def compute_mean(features):\n",
    "    mean_sum = 0\n",
    "    for value in features:\n",
    "        mean_sum += value\n",
    "    Mean = mean_sum / len(features)\n",
    "    return Mean\n",
    "\n",
    "Petal_Length = datalist[0]\n",
    "Petal_Width = datalist[1]\n",
    "# Mean of Petal Length\n",
    "pl_mean = compute_mean(Petal_Length)\n",
    "# Mean of Petal Width\n",
    "pw_mean = compute_mean(Petal_Width)\n",
    "\n",
    "Mean_Tuple = (pl_mean,pw_mean)\n",
    "print('Mean:',Mean_Tuple)\n",
    "\n"
   ]
  },
  {
   "cell_type": "markdown",
   "metadata": {},
   "source": [
    "#### Task2\n",
    "----------------\n",
    "Compute the covariance matrix $X$ using outper product formula, i.e. $\\Sigma=\\frac{1}{n}Z^T\\;Z$, where $Z$ is centered data matrix (mean = 0)"
   ]
  },
  {
   "cell_type": "code",
   "execution_count": 5,
   "metadata": {},
   "outputs": [],
   "source": [
    "import numpy as np"
   ]
  },
  {
   "cell_type": "code",
   "execution_count": 6,
   "metadata": {},
   "outputs": [],
   "source": [
    "def Construct_Data_Matrix(list1,list2):\n",
    "    if len(list1) != len(list2):\n",
    "        print('Lists must be of same length')\n",
    "        return 0\n",
    "    \n",
    "    dataMatrix = []\n",
    "    for i in range(len(list1)):\n",
    "        dataMatrix.append([list1[i],list2[i]])\n",
    "    return  dataMatrix\n",
    "\n",
    "\n",
    "def Construct_Centered_DM(datamatrix,Mean_list):\n",
    "    centeredDataMatrix = []\n",
    "    for tups in datamatrix:\n",
    "        val1 = tups[0] - Mean_list[0]\n",
    "        val2 = tups[1] - Mean_list[1]\n",
    "        centeredDataMatrix.append([val1,val2])\n",
    "    return centeredDataMatrix\n",
    "\n",
    "def check_OneD(matrix):\n",
    "    check1 = type(matrix) == list\n",
    "    check2 = len(matrix) > 0\n",
    "    check3 = type(matrix[0]) != list\n",
    "    return check1 and check2 and check3\n",
    "    \n",
    "def Take_Transpose(datamatrix):\n",
    "    \n",
    "    # check is datamatrix is 1D\n",
    "    check_if_1D = check_OneD(datamatrix)\n",
    "    if check_if_1D == True:\n",
    "        transposed = []\n",
    "        for element in datamatrix:\n",
    "            transposed.append(element)\n",
    "        return transposed\n",
    "    \n",
    "    # else it will only deal with 2x2 matrix\n",
    "    rows_count = len(datamatrix)\n",
    "    cols_count = len(datamatrix[0])\n",
    "    transposed_mat = []\n",
    "    for i in range(cols_count):\n",
    "        row = []\n",
    "        for j in range(rows_count):\n",
    "            row.append(datamatrix[j][i])\n",
    "        transposed_mat.append(row) #appending the new constructed row in to the transposed matrix\n",
    "    return transposed_mat\n",
    "   \n",
    "def Check_if_Vector(Mat):\n",
    "    if type(Mat) != list:\n",
    "        check1 = False\n",
    "    \n",
    "    return 0     \n",
    "\n",
    "def Calc_DotProduct(Matrix1, Matrix2):\n",
    "    if len(Matrix1[0]) != len(Matrix2):\n",
    "        return \"Matrices cannot be multiplied\"\n",
    "    else:\n",
    "        # Initializing a new matrix with zeros which will then hold the result\n",
    "        rows_Matrix1 = len(Matrix1)\n",
    "        cols_Matrix2 = len(Matrix2[0])\n",
    "        dt = [[0 for _ in range(cols_Matrix2)] for _ in range(rows_Matrix1)]\n",
    "        for i in range(len(Matrix1)):\n",
    "            # looping through rows of first Matrix\n",
    "            for j in range(len(Matrix2[0])):\n",
    "                # looping through cols of Second Matrix\n",
    "                temp_result = 0\n",
    "                for t in range(len(Matrix1[0])): \n",
    "                    temp_result += Matrix1[i][t] * Matrix2[t][j]\n",
    "                dt[i][j] = temp_result           \n",
    "    return dt\n"
   ]
  },
  {
   "cell_type": "code",
   "execution_count": 7,
   "metadata": {},
   "outputs": [
    {
     "name": "stdout",
     "output_type": "stream",
     "text": [
      "Covariance Matrix of Centered Data: \n",
      "[[3.075591189586054, 1.2804725012386828], [1.2804725012386828, 0.5756758704562862]]\n"
     ]
    }
   ],
   "source": [
    "#Write your code here\n",
    "dataMatrix=Construct_Data_Matrix(datalist[0],datalist[1])\n",
    "# Computing th mean of the columns of datamatrix\n",
    "dataMat_Col1_mean = 0\n",
    "dataMat_Col2_mean = 0\n",
    "temp_col1 , temp_col2 = 0,0\n",
    "# for tups in dataMatrix:\n",
    "#     temp_col1 += tups[0]\n",
    "#     temp_col2 += tups[1]\n",
    "import numpy as np\n",
    "\n",
    "# dataMat_Col1_mean = temp_col1 / len(dataMatrix)\n",
    "# dataMat_Col2_mean = temp_col2 / len(dataMatrix)\n",
    "# Petal Length and Width Mean Vector\n",
    "Mean_list = [pl_mean,pw_mean]\n",
    "\n",
    "# Now Centering the data by subtracting the Mean\n",
    "centeredDataMatrix = Construct_Centered_DM(dataMatrix,Mean_list) \n",
    "# centeredDataMatrix is Z basically\n",
    "# n is the length of the centered Matrix\n",
    "# print(centeredDataMatrix)\n",
    "n = len(centeredDataMatrix)\n",
    "# taking transpose\n",
    "transposed_dataMatrix = Take_Transpose(centeredDataMatrix)\n",
    "# Now take Dot Product of CenteredDataMAtrix Transpose and MAtrix itself\n",
    "# print(transposed_dataMatrix )\n",
    "dot_prod = Calc_DotProduct(transposed_dataMatrix,centeredDataMatrix)\n",
    "# print(dot_prod)\n",
    "one_of_n = 1 / n\n",
    "\n",
    "# Covariance_Matrix = [[(1/n) * i for i in row] for row in dot_prod]\n",
    "Covariance_Matrix = []\n",
    "for row in dot_prod:\n",
    "    cov_value = [one_of_n * points for points in row]\n",
    "    Covariance_Matrix.append(cov_value)\n",
    "    \n",
    "    \n",
    "print('Covariance Matrix of Centered Data: ')\n",
    "print(Covariance_Matrix)\n",
    "\n",
    "    \n",
    "    "
   ]
  },
  {
   "cell_type": "code",
   "execution_count": null,
   "metadata": {},
   "outputs": [],
   "source": []
  }
 ],
 "metadata": {
  "kernelspec": {
   "display_name": "Python 3",
   "language": "python",
   "name": "python3"
  },
  "language_info": {
   "codemirror_mode": {
    "name": "ipython",
    "version": 3
   },
   "file_extension": ".py",
   "mimetype": "text/x-python",
   "name": "python",
   "nbconvert_exporter": "python",
   "pygments_lexer": "ipython3",
   "version": "3.11.4"
  }
 },
 "nbformat": 4,
 "nbformat_minor": 2
}
